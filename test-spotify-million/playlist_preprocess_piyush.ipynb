{
 "cells": [
  {
   "cell_type": "code",
   "execution_count": 2,
   "metadata": {},
   "outputs": [],
   "source": [
    "import csv\n",
    "import json\n",
    "import spotipy\n",
    "from spotipy.oauth2 import SpotifyClientCredentials\n",
    "import pandas as pd\n",
    "from collections import defaultdict\n",
    "import os\n",
    "from dotenv import load_dotenv"
   ]
  },
  {
   "cell_type": "code",
   "execution_count": 3,
   "metadata": {},
   "outputs": [],
   "source": [
    "# Fetch environment variables\n",
    "load_dotenv()\n",
    "CLIENT_ID = os.getenv('CLIENT_ID')\n",
    "CLIENT_SECRET = os.getenv('CLIENT_SECRET')\n",
    "\n",
    "# Set up Spotify API credentials\n",
    "client_credentials_manager = SpotifyClientCredentials(client_id=CLIENT_ID, client_secret=CLIENT_SECRET)\n",
    "sp = spotipy.Spotify(client_credentials_manager=client_credentials_manager)"
   ]
  },
  {
   "cell_type": "code",
   "execution_count": 4,
   "metadata": {},
   "outputs": [],
   "source": [
    "mil_tracks = pd.read_csv('spotify_data.csv')\n",
    "known_tracks = pd.read_csv('intermediate.csv')\n",
    "id = \"1lzr43nnXAijIGYnCT8M8H\"\n",
    "found1 = mil_tracks[mil_tracks['track_id'] == id]\n",
    "id = \"spotify:track:\" + id\n",
    "found2 = known_tracks.loc[known_tracks['track_id'] == id]\n",
    "if not found1.empty:\n",
    "    print(found1)\n",
    "if not found2.empty:\n",
    "    print(found2)"
   ]
  },
  {
   "cell_type": "code",
   "execution_count": 11,
   "metadata": {},
   "outputs": [
    {
     "name": "stdout",
     "output_type": "stream",
     "text": [
      "Loading spotify_million_playlist_dataset/data/mpd.slice.9000-9999.json...\n",
      "Loading complete! Beginning parsing...\n",
      "\n",
      "Scanned playlist 0 (87 songs)\n",
      "Successful response with 87 entries\n",
      "Total songs stored so far: len(track_list) = 87\n",
      "\n",
      "Scanned playlist 1 (76 songs)\n"
     ]
    },
    {
     "name": "stderr",
     "output_type": "stream",
     "text": [
      "Max Retries reached\n"
     ]
    },
    {
     "name": "stdout",
     "output_type": "stream",
     "text": [
      "Rate limit exceeded. Retrying after 2 seconds...\n"
     ]
    },
    {
     "name": "stderr",
     "output_type": "stream",
     "text": [
      "Max Retries reached\n"
     ]
    },
    {
     "name": "stdout",
     "output_type": "stream",
     "text": [
      "Rate limit exceeded. Retrying after 4 seconds...\n"
     ]
    },
    {
     "name": "stderr",
     "output_type": "stream",
     "text": [
      "Max Retries reached\n"
     ]
    },
    {
     "name": "stdout",
     "output_type": "stream",
     "text": [
      "Rate limit exceeded. Retrying after 8 seconds...\n"
     ]
    },
    {
     "name": "stderr",
     "output_type": "stream",
     "text": [
      "Max Retries reached\n"
     ]
    },
    {
     "name": "stdout",
     "output_type": "stream",
     "text": [
      "Rate limit exceeded. Retrying after 16 seconds...\n"
     ]
    },
    {
     "name": "stderr",
     "output_type": "stream",
     "text": [
      "Max Retries reached\n"
     ]
    },
    {
     "name": "stdout",
     "output_type": "stream",
     "text": [
      "Rate limit exceeded. Retrying after 32 seconds...\n"
     ]
    },
    {
     "name": "stderr",
     "output_type": "stream",
     "text": [
      "Max Retries reached\n"
     ]
    },
    {
     "name": "stdout",
     "output_type": "stream",
     "text": [
      "Rate limit exceeded. Retrying after 32 seconds...\n"
     ]
    },
    {
     "name": "stderr",
     "output_type": "stream",
     "text": [
      "Max Retries reached\n"
     ]
    },
    {
     "name": "stdout",
     "output_type": "stream",
     "text": [
      "Rate limit exceeded. Retrying after 32 seconds...\n"
     ]
    },
    {
     "name": "stderr",
     "output_type": "stream",
     "text": [
      "Max Retries reached\n"
     ]
    },
    {
     "name": "stdout",
     "output_type": "stream",
     "text": [
      "Rate limit exceeded. Retrying after 32 seconds...\n"
     ]
    },
    {
     "name": "stderr",
     "output_type": "stream",
     "text": [
      "Max Retries reached\n"
     ]
    },
    {
     "name": "stdout",
     "output_type": "stream",
     "text": [
      "Rate limit exceeded. Retrying after 32 seconds...\n"
     ]
    },
    {
     "ename": "KeyboardInterrupt",
     "evalue": "",
     "output_type": "error",
     "traceback": [
      "\u001b[0;31m---------------------------------------------------------------------------\u001b[0m",
      "\u001b[0;31mKeyboardInterrupt\u001b[0m                         Traceback (most recent call last)",
      "Cell \u001b[0;32mIn[11], line 81\u001b[0m\n\u001b[1;32m     78\u001b[0m         \u001b[38;5;28mprint\u001b[39m(\u001b[38;5;124mf\u001b[39m\u001b[38;5;124m\"\u001b[39m\u001b[38;5;124mRetrying...\u001b[39m\u001b[38;5;124m\"\u001b[39m)\n\u001b[1;32m     80\u001b[0m     \u001b[38;5;28;01mfinally\u001b[39;00m:\n\u001b[0;32m---> 81\u001b[0m         \u001b[43mtime\u001b[49m\u001b[38;5;241;43m.\u001b[39;49m\u001b[43msleep\u001b[49m\u001b[43m(\u001b[49m\u001b[43mretry_after\u001b[49m\u001b[43m)\u001b[49m\n\u001b[1;32m     83\u001b[0m request_track_ids \u001b[38;5;241m=\u001b[39m []\n",
      "\u001b[0;31mKeyboardInterrupt\u001b[0m: "
     ]
    }
   ],
   "source": [
    "import time\n",
    "# ---------- YOUR FILEPATHS HERE ----------\n",
    "FILENAME = \"mpd.slice.9000-9999.json\"\n",
    "FOLDER = r\"spotify_million_playlist_dataset/data\"\n",
    "PATH = FOLDER + \"/\" + FILENAME\n",
    "# ---------- YOUR FILEPATHS HERE ----------\n",
    "\n",
    "# fields = ['','artist_name','track_name','track_id','popularity','year','genre','danceability','energy','key','loudness','mode','speechiness','acousticness','instrumentalness','liveness','valence','tempo','duration_ms','time_signature']\n",
    "# no popularity,year,genre fields, not queryable in spotipy api\n",
    "features = ['danceability','energy','key','loudness','mode','speechiness','acousticness','instrumentalness','liveness','valence','tempo','duration_ms','time_signature']\n",
    "track_list = []\n",
    "# request_ids = []\n",
    "print(f\"Loading {PATH}...\")\n",
    "with open(PATH, \"r\") as playlist_file:\n",
    "    batch = json.load(playlist_file)\n",
    "    print(f\"Loading complete! Beginning parsing...\")\n",
    "    \n",
    "    # This is our running count, serves as the index for the song\n",
    "    i = 0\n",
    "\n",
    "    for playlist_index, playlist in enumerate(batch[\"playlists\"]):\n",
    "\n",
    "        print(f\"\\nScanned playlist {playlist_index} ({len(playlist['tracks'])} songs)\")\n",
    "        # List of IDs we will request for via spotipy\n",
    "        request_track_ids = []\n",
    "\n",
    "        # Intermediate list we use to store known data before we make API call\n",
    "        track_info_100 = []\n",
    "        for current_index, track in enumerate(playlist[\"tracks\"]):\n",
    "            current_id = track[\"track_uri\"][14:]\n",
    "\n",
    "            track_info = {\n",
    "                '':i,\n",
    "                'artist_name': track['artist_name'],\n",
    "                'track_name': track['track_name'],\n",
    "                'track_id': current_id,\n",
    "                # ... we will add more attributes later\n",
    "            }\n",
    "            \n",
    "            # Check if its in the millions, skip if so\n",
    "            temp_mil = mil_tracks[mil_tracks['track_id'] == id]\n",
    "            if not temp_mil.empty:\n",
    "                continue\n",
    "            \n",
    "            i += 1\n",
    "            # If song is undiscovered, we add its ID to the list.\n",
    "            request_track_ids.append(current_id)\n",
    "            track_info_100.append(track_info)\n",
    "\n",
    "            # If we have 100 songs in our request_track_ids, then we make the call for all 100 and reset the list\n",
    "            if len(request_track_ids) == 100 or current_index == len(playlist[\"tracks\"]) - 1:\n",
    "                success = False\n",
    "                retry_after = 1\n",
    "                while not success:\n",
    "                    try:\n",
    "                        response = sp.audio_features(request_track_ids) \n",
    "                        print(f\"Successful response with {len(response)} entries\")\n",
    "                        for response_index, audio_features in enumerate(response):\n",
    "                            if audio_features:  # Check if audio_features is not None\n",
    "                                for feature in features:\n",
    "                                    track_info_100[response_index][feature] = audio_features[feature]\n",
    "                                track_list.append(track_info_100[response_index])\n",
    "                        print(f\"Total songs stored so far: {len(track_list) = }\")\n",
    "                        retry_after = 0\n",
    "                        success = True\n",
    "                        track_info_100 = []\n",
    "\n",
    "                    except spotipy.exceptions.SpotifyException as e:\n",
    "                        if e.http_status == 429:\n",
    "                            # retry_after = int(e.headers.get('Retry-After', 1))\n",
    "                            if retry_after < 32: retry_after *= 2 \n",
    "                            print(f\"Rate limit exceeded. Retrying after {retry_after} seconds...\")\n",
    "                        else:\n",
    "                            print(f\"Error: HTTP Code {e.http_status}, {e}\")\n",
    "                        \n",
    "                    except Exception as e:\n",
    "                        print(f\"Ran into other error: {e}\")\n",
    "                        print(f\"Retrying...\")\n",
    "                    \n",
    "                    finally:\n",
    "                        time.sleep(retry_after)\n",
    "                \n",
    "                request_track_ids = []"
   ]
  },
  {
   "cell_type": "code",
   "execution_count": 9,
   "metadata": {},
   "outputs": [
    {
     "name": "stdout",
     "output_type": "stream",
     "text": [
      "39270\n",
      "{'': 0, 'artist_name': 'Ed Sheeran', 'track_name': 'Thinking Out Loud - Alex Adair Remix', 'track_id': '1cWepLwVVDgyqxso6G4TQU', 'danceability': 0.828, 'energy': 0.745, 'key': 2, 'loudness': -6.717, 'mode': 1, 'speechiness': 0.152, 'acousticness': 0.21, 'instrumentalness': 0.00113, 'liveness': 0.087, 'valence': 0.517, 'tempo': 117.008, 'duration_ms': 182185, 'time_signature': 4}\n",
      "{'': 1, 'artist_name': 'filous', 'track_name': 'How Hard I Try', 'track_id': '7uzudGwu8EG5deuFD7EEJm', 'danceability': 0.742, 'energy': 0.564, 'key': 5, 'loudness': -8.761, 'mode': 1, 'speechiness': 0.0451, 'acousticness': 0.299, 'instrumentalness': 0.000742, 'liveness': 0.109, 'valence': 0.505, 'tempo': 120.012, 'duration_ms': 198000, 'time_signature': 4}\n",
      "{'': 2, 'artist_name': 'Life of Dillon', 'track_name': 'Overload', 'track_id': '74OPbAeDYrpKJL4IlBiHxm', 'danceability': 0.662, 'energy': 0.733, 'key': 8, 'loudness': -5.83, 'mode': 1, 'speechiness': 0.0286, 'acousticness': 0.0128, 'instrumentalness': 2.23e-06, 'liveness': 0.0799, 'valence': 0.566, 'tempo': 126.06, 'duration_ms': 210960, 'time_signature': 4}\n",
      "{'': 3, 'artist_name': 'Milky Chance', 'track_name': 'Down By The River', 'track_id': '7HNpXPaTcX5CoNBjTAEWBr', 'danceability': 0.688, 'energy': 0.697, 'key': 9, 'loudness': -7.955, 'mode': 1, 'speechiness': 0.0485, 'acousticness': 0.753, 'instrumentalness': 6.21e-05, 'liveness': 0.109, 'valence': 0.46, 'tempo': 114.03, 'duration_ms': 241053, 'time_signature': 4}\n",
      "{'': 4, 'artist_name': 'Oasis', 'track_name': 'Wonderwall - Remastered', 'track_id': '5qqabIl2vWzo9ApSC317sa', 'danceability': 0.376, 'energy': 0.896, 'key': 2, 'loudness': -4.065, 'mode': 1, 'speechiness': 0.0395, 'acousticness': 0.000452, 'instrumentalness': 0, 'liveness': 0.194, 'valence': 0.472, 'tempo': 174.379, 'duration_ms': 258773, 'time_signature': 4}\n",
      "{'': 5, 'artist_name': 'Red Hot Chili Peppers', 'track_name': 'Scar Tissue', 'track_id': '1G391cbiT3v3Cywg8T7DM1', 'danceability': 0.595, 'energy': 0.717, 'key': 0, 'loudness': -4.803, 'mode': 1, 'speechiness': 0.0295, 'acousticness': 0.0779, 'instrumentalness': 0.00274, 'liveness': 0.108, 'valence': 0.547, 'tempo': 88.969, 'duration_ms': 215907, 'time_signature': 4}\n",
      "{'': 6, 'artist_name': 'Red Hot Chili Peppers', 'track_name': 'Otherside', 'track_id': '64BbK9SFKH2jk86U3dGj2P', 'danceability': 0.458, 'energy': 0.795, 'key': 0, 'loudness': -3.265, 'mode': 1, 'speechiness': 0.0574, 'acousticness': 0.00316, 'instrumentalness': 0.000202, 'liveness': 0.0756, 'valence': 0.513, 'tempo': 123.229, 'duration_ms': 255373, 'time_signature': 4}\n",
      "{'': 7, 'artist_name': 'Sheppard', 'track_name': 'Let Me Down Easy', 'track_id': '5nxThZozDXejc9b5F8MSmv', 'danceability': 0.597, 'energy': 0.594, 'key': 9, 'loudness': -5.719, 'mode': 1, 'speechiness': 0.0289, 'acousticness': 0.347, 'instrumentalness': 0, 'liveness': 0.0847, 'valence': 0.3, 'tempo': 144.988, 'duration_ms': 227631, 'time_signature': 4}\n",
      "{'': 8, 'artist_name': 'Matoma', 'track_name': 'Old Thing Back (feat. Ja Rule and Ralph Tresvant)', 'track_id': '6HTJZ0TQJVMSKkUGzAOe2h', 'danceability': 0.805, 'energy': 0.858, 'key': 0, 'loudness': -3.067, 'mode': 1, 'speechiness': 0.105, 'acousticness': 0.194, 'instrumentalness': 7.89e-06, 'liveness': 0.256, 'valence': 0.523, 'tempo': 97.033, 'duration_ms': 321649, 'time_signature': 4}\n",
      "{'': 9, 'artist_name': 'Ed Sheeran', 'track_name': 'What Do I Know?', 'track_id': '2pJZ1v8HezrAoZ0Fhzby92', 'danceability': 0.838, 'energy': 0.492, 'key': 1, 'loudness': -5.69, 'mode': 0, 'speechiness': 0.038, 'acousticness': 0.251, 'instrumentalness': 0, 'liveness': 0.262, 'valence': 0.895, 'tempo': 115.092, 'duration_ms': 237333, 'time_signature': 4}\n",
      "{'': 10, 'artist_name': 'Eric Church', 'track_name': 'Springsteen', 'track_id': '05ZACkzW8YbRq3eFgIfSNB', 'danceability': 0.692, 'energy': 0.809, 'key': 2, 'loudness': -5.935, 'mode': 1, 'speechiness': 0.0255, 'acousticness': 0.1, 'instrumentalness': 9.91e-05, 'liveness': 0.186, 'valence': 0.927, 'tempo': 104.022, 'duration_ms': 263387, 'time_signature': 4}\n",
      "{'': 11, 'artist_name': 'Michael Franti & Spearhead', 'track_name': 'The Sound Of Sunshine', 'track_id': '3Uuop7Zz1IlyMSr7DPydxf', 'danceability': 0.673, 'energy': 0.906, 'key': 10, 'loudness': -4.904, 'mode': 1, 'speechiness': 0.057, 'acousticness': 0.016, 'instrumentalness': 0.015, 'liveness': 0.264, 'valence': 0.685, 'tempo': 97.003, 'duration_ms': 225133, 'time_signature': 4}\n",
      "{'': 12, 'artist_name': 'Cody Simpson', 'track_name': 'Thotful', 'track_id': '6zrf5IkFkMJnaDuLlWyTwR', 'danceability': 0.682, 'energy': 0.701, 'key': 9, 'loudness': -5.988, 'mode': 1, 'speechiness': 0.0696, 'acousticness': 0.244, 'instrumentalness': 0, 'liveness': 0.0716, 'valence': 0.623, 'tempo': 99.532, 'duration_ms': 251160, 'time_signature': 4}\n",
      "{'': 13, 'artist_name': 'Sublime', 'track_name': 'Santeria', 'track_id': '2Z2vOukzwOgqR4dkymRSWd', 'danceability': 0.67, 'energy': 0.753, 'key': 1, 'loudness': -5.058, 'mode': 0, 'speechiness': 0.0387, 'acousticness': 0.0208, 'instrumentalness': 2.74e-06, 'liveness': 0.147, 'valence': 0.551, 'tempo': 90.385, 'duration_ms': 183160, 'time_signature': 4}\n",
      "{'': 14, 'artist_name': 'Jack Johnson', 'track_name': 'Upside Down', 'track_id': '4JWZTNlLBlNoa5t7qn1M8i', 'danceability': 0.792, 'energy': 0.647, 'key': 4, 'loudness': -8.314, 'mode': 1, 'speechiness': 0.045, 'acousticness': 0.255, 'instrumentalness': 0.000223, 'liveness': 0.132, 'valence': 0.694, 'tempo': 102.477, 'duration_ms': 209547, 'time_signature': 4}\n",
      "{'': 15, 'artist_name': 'Bob Marley & The Wailers', 'track_name': 'One Love / People Get Ready', 'track_id': '4OsZ1vrenrtSbqLJxOceKl', 'danceability': 0.725, 'energy': 0.523, 'key': 10, 'loudness': -9.593, 'mode': 1, 'speechiness': 0.324, 'acousticness': 0.0783, 'instrumentalness': 0, 'liveness': 0.0665, 'valence': 0.95, 'tempo': 76.292, 'duration_ms': 172933, 'time_signature': 4}\n",
      "{'': 16, 'artist_name': 'Van Morrison', 'track_name': 'Brown Eyed Girl', 'track_id': '3yrSvpt2l1xhsV9Em88Pul', 'danceability': 0.491, 'energy': 0.583, 'key': 7, 'loudness': -10.964, 'mode': 1, 'speechiness': 0.0376, 'acousticness': 0.185, 'instrumentalness': 0, 'liveness': 0.406, 'valence': 0.908, 'tempo': 150.566, 'duration_ms': 183307, 'time_signature': 4}\n",
      "{'': 17, 'artist_name': 'John Mayer', 'track_name': 'Daughters', 'track_id': '5FPnjikbwlDMULCCCa6ZCJ', 'danceability': 0.674, 'energy': 0.413, 'key': 2, 'loudness': -7.816, 'mode': 1, 'speechiness': 0.0274, 'acousticness': 0.836, 'instrumentalness': 1.95e-05, 'liveness': 0.098, 'valence': 0.503, 'tempo': 124.893, 'duration_ms': 237907, 'time_signature': 3}\n",
      "{'': 18, 'artist_name': 'Luke Bryan', 'track_name': 'Suntan City', 'track_id': '2HiXyVv2tfjIGJh02brVDY', 'danceability': 0.663, 'energy': 0.884, 'key': 8, 'loudness': -4.562, 'mode': 1, 'speechiness': 0.0297, 'acousticness': 0.00245, 'instrumentalness': 2.05e-06, 'liveness': 0.0977, 'valence': 0.919, 'tempo': 117.004, 'duration_ms': 234360, 'time_signature': 4}\n",
      "{'': 19, 'artist_name': 'Los Lonely Boys', 'track_name': 'Heaven', 'track_id': '2mQ1RBK7s87mdPCzh97RSH', 'danceability': 0.664, 'energy': 0.862, 'key': 6, 'loudness': -5.403, 'mode': 1, 'speechiness': 0.0679, 'acousticness': 0.378, 'instrumentalness': 4.19e-06, 'liveness': 0.0824, 'valence': 0.782, 'tempo': 91.91, 'duration_ms': 227347, 'time_signature': 4}\n",
      "{'': 20, 'artist_name': 'John Mayer', 'track_name': 'Perfectly Lonely', 'track_id': '42dbDZX9bsEGqMZWYmnR7J', 'danceability': 0.678, 'energy': 0.53, 'key': 0, 'loudness': -8.515, 'mode': 1, 'speechiness': 0.024, 'acousticness': 0.00987, 'instrumentalness': 0.000274, 'liveness': 0.0437, 'valence': 0.678, 'tempo': 91.779, 'duration_ms': 268093, 'time_signature': 4}\n",
      "{'': 21, 'artist_name': 'Jason Mraz', 'track_name': 'Wordplay', 'track_id': '3qBaCCsAJGkSJc8XBui6Mp', 'danceability': 0.464, 'energy': 0.877, 'key': 7, 'loudness': -3.793, 'mode': 1, 'speechiness': 0.0499, 'acousticness': 0.192, 'instrumentalness': 0, 'liveness': 0.1, 'valence': 0.512, 'tempo': 176.662, 'duration_ms': 186507, 'time_signature': 4}\n",
      "{'': 22, 'artist_name': 'Maroon 5', 'track_name': 'Love Somebody', 'track_id': '0HnaqUxvHP5LaWdmWwJpiS', 'danceability': 0.675, 'energy': 0.792, 'key': 1, 'loudness': -6.303, 'mode': 1, 'speechiness': 0.0368, 'acousticness': 0.145, 'instrumentalness': 0, 'liveness': 0.12, 'valence': 0.395, 'tempo': 120.016, 'duration_ms': 229813, 'time_signature': 4}\n",
      "{'': 23, 'artist_name': 'Hootie & The Blowfish', 'track_name': 'Only Wanna Be With You', 'track_id': '1OFKUn2VLafrHj7ybnap0Q', 'danceability': 0.49, 'energy': 0.873, 'key': 6, 'loudness': -5.861, 'mode': 1, 'speechiness': 0.0355, 'acousticness': 0.107, 'instrumentalness': 5.19e-06, 'liveness': 0.118, 'valence': 0.513, 'tempo': 103.272, 'duration_ms': 229587, 'time_signature': 4}\n",
      "{'': 24, 'artist_name': 'Miley Cyrus', 'track_name': 'Malibu', 'track_id': '1UZOjK1BwmwWU14Erba9CZ', 'danceability': 0.573, 'energy': 0.781, 'key': 8, 'loudness': -6.406, 'mode': 1, 'speechiness': 0.0555, 'acousticness': 0.0767, 'instrumentalness': 2.64e-05, 'liveness': 0.0813, 'valence': 0.343, 'tempo': 139.934, 'duration_ms': 231907, 'time_signature': 4}\n",
      "{'': 25, 'artist_name': 'Cris Cab', 'track_name': 'Good Girls - Bonus Track', 'track_id': '6CvNZirHrSYygDSjN5BSAy', 'danceability': 0.837, 'energy': 0.571, 'key': 5, 'loudness': -6.545, 'mode': 1, 'speechiness': 0.037, 'acousticness': 0.0364, 'instrumentalness': 3.42e-05, 'liveness': 0.0985, 'valence': 0.564, 'tempo': 89.984, 'duration_ms': 185573, 'time_signature': 4}\n",
      "{'': 26, 'artist_name': 'Childish Gambino', 'track_name': 'Redbone', 'track_id': '3kxfsdsCpFgN412fpnW85Y', 'danceability': 0.745, 'energy': 0.356, 'key': 1, 'loudness': -10.425, 'mode': 1, 'speechiness': 0.0941, 'acousticness': 0.172, 'instrumentalness': 0.00943, 'liveness': 0.123, 'valence': 0.607, 'tempo': 160.033, 'duration_ms': 326933, 'time_signature': 4}\n",
      "{'': 27, 'artist_name': 'Niall Horan', 'track_name': 'Slow Hands', 'track_id': '38yBBH2jacvDxrznF7h08J', 'danceability': 0.734, 'energy': 0.418, 'key': 0, 'loudness': -6.678, 'mode': 1, 'speechiness': 0.0425, 'acousticness': 0.0129, 'instrumentalness': 0, 'liveness': 0.0579, 'valence': 0.868, 'tempo': 85.909, 'duration_ms': 188174, 'time_signature': 4}\n",
      "{'': 28, 'artist_name': 'Keith Urban', 'track_name': \"Blue Ain't Your Color\", 'track_id': '6ZOPiKQeibCn7fP8dncucL', 'danceability': 0.69, 'energy': 0.416, 'key': 7, 'loudness': -7.865, 'mode': 1, 'speechiness': 0.0334, 'acousticness': 0.607, 'instrumentalness': 1.45e-06, 'liveness': 0.102, 'valence': 0.478, 'tempo': 82.449, 'duration_ms': 230600, 'time_signature': 3}\n",
      "{'': 29, 'artist_name': 'Weezer', 'track_name': 'Island In The Sun', 'track_id': '2MLHyLy5z5l5YRp7momlgw', 'danceability': 0.654, 'energy': 0.81, 'key': 4, 'loudness': -6.26, 'mode': 0, 'speechiness': 0.0288, 'acousticness': 0.00719, 'instrumentalness': 0.00251, 'liveness': 0.165, 'valence': 0.661, 'tempo': 114.622, 'duration_ms': 200307, 'time_signature': 4}\n",
      "{'': 30, 'artist_name': 'Milky Chance', 'track_name': 'Cocoon', 'track_id': '0L87MffumRNWrY2SNUFcvs', 'danceability': 0.743, 'energy': 0.659, 'key': 10, 'loudness': -6.755, 'mode': 1, 'speechiness': 0.0343, 'acousticness': 0.0998, 'instrumentalness': 0.00028, 'liveness': 0.0622, 'valence': 0.804, 'tempo': 114.033, 'duration_ms': 255160, 'time_signature': 4}\n",
      "{'': 31, 'artist_name': 'Weezer', 'track_name': 'Feels Like Summer', 'track_id': '2jz1bw1p0WQj0PDnVDP0uY', 'danceability': 0.53, 'energy': 0.867, 'key': 11, 'loudness': -4.989, 'mode': 1, 'speechiness': 0.0504, 'acousticness': 0.02, 'instrumentalness': 0.000248, 'liveness': 0.737, 'valence': 0.74, 'tempo': 175.981, 'duration_ms': 195893, 'time_signature': 4}\n",
      "{'': 32, 'artist_name': 'Sam Hunt', 'track_name': 'Body Like A Back Road', 'track_id': '7mldq42yDuxiUNn08nvzHO', 'danceability': 0.732, 'energy': 0.458, 'key': 5, 'loudness': -7.225, 'mode': 1, 'speechiness': 0.0311, 'acousticness': 0.447, 'instrumentalness': 0, 'liveness': 0.136, 'valence': 0.661, 'tempo': 98.938, 'duration_ms': 165387, 'time_signature': 4}\n",
      "{'': 33, 'artist_name': 'INXS', 'track_name': 'Beautiful Girl', 'track_id': '6N81xlWzMaEYhjHry55OSI', 'danceability': 0.675, 'energy': 0.666, 'key': 11, 'loudness': -6.067, 'mode': 1, 'speechiness': 0.027, 'acousticness': 0.0187, 'instrumentalness': 0.692, 'liveness': 0.112, 'valence': 0.434, 'tempo': 120.558, 'duration_ms': 207547, 'time_signature': 4}\n",
      "{'': 34, 'artist_name': 'Coast Modern', 'track_name': 'Dive', 'track_id': '2QqaJDUOppTtjJLhTMNN5R', 'danceability': 0.687, 'energy': 0.949, 'key': 7, 'loudness': -4.63, 'mode': 0, 'speechiness': 0.0443, 'acousticness': 0.0192, 'instrumentalness': 0, 'liveness': 0.118, 'valence': 0.757, 'tempo': 106.944, 'duration_ms': 208307, 'time_signature': 4}\n",
      "{'': 35, 'artist_name': 'LEN', 'track_name': 'Steal My Sunshine - Remastered Anniversary Edition', 'track_id': '3KnZzkimhm2HQuh8i5JW1F', 'danceability': 0.633, 'energy': 0.966, 'key': 4, 'loudness': -6.843, 'mode': 1, 'speechiness': 0.0766, 'acousticness': 0.386, 'instrumentalness': 0, 'liveness': 0.279, 'valence': 0.819, 'tempo': 96.028, 'duration_ms': 211864, 'time_signature': 4}\n",
      "{'': 36, 'artist_name': 'Kings of Leon', 'track_name': 'Around The World', 'track_id': '06ClI3XK2FPR5uP8tPcFS1', 'danceability': 0.575, 'energy': 0.854, 'key': 1, 'loudness': -5.847, 'mode': 0, 'speechiness': 0.0362, 'acousticness': 0.000252, 'instrumentalness': 0.676, 'liveness': 0.351, 'valence': 0.587, 'tempo': 113.075, 'duration_ms': 214040, 'time_signature': 4}\n",
      "{'': 37, 'artist_name': 'Uncle Kracker', 'track_name': 'Drift Away', 'track_id': '0RFgvrhkf9FiDRLA0BhzpZ', 'danceability': 0.583, 'energy': 0.66, 'key': 11, 'loudness': -5.078, 'mode': 1, 'speechiness': 0.0377, 'acousticness': 0.181, 'instrumentalness': 0, 'liveness': 0.0979, 'valence': 0.861, 'tempo': 151.956, 'duration_ms': 255560, 'time_signature': 4}\n",
      "{'': 38, 'artist_name': 'Uncle Kracker', 'track_name': 'Follow Me', 'track_id': '4KoecuyOpZaNFZ0UqVsllc', 'danceability': 0.817, 'energy': 0.585, 'key': 5, 'loudness': -4.688, 'mode': 1, 'speechiness': 0.0301, 'acousticness': 0.439, 'instrumentalness': 0, 'liveness': 0.147, 'valence': 0.916, 'tempo': 105.014, 'duration_ms': 218440, 'time_signature': 4}\n",
      "{'': 39, 'artist_name': 'Jon Pardi', 'track_name': 'Heartache On The Dance Floor', 'track_id': '0w3Q14i073jLoew1hgJkwD', 'danceability': 0.596, 'energy': 0.833, 'key': 9, 'loudness': -4.308, 'mode': 1, 'speechiness': 0.0474, 'acousticness': 0.0563, 'instrumentalness': 0, 'liveness': 0.0866, 'valence': 0.618, 'tempo': 115.997, 'duration_ms': 205200, 'time_signature': 4}\n",
      "{'': 40, 'artist_name': 'Flo Rida', 'track_name': 'Cake - East & Young Remix', 'track_id': '6BOdGGWjwA31cohADkD5LV', 'danceability': 0.685, 'energy': 0.947, 'key': 2, 'loudness': -2.646, 'mode': 1, 'speechiness': 0.055, 'acousticness': 0.034, 'instrumentalness': 3.67e-06, 'liveness': 0.302, 'valence': 0.545, 'tempo': 110.024, 'duration_ms': 170182, 'time_signature': 4}\n",
      "{'': 41, 'artist_name': 'Andy Grammer', 'track_name': 'Give Love', 'track_id': '4T6GFhzAe4tJvwzFWqxkCs', 'danceability': 0.742, 'energy': 0.816, 'key': 1, 'loudness': -5.23, 'mode': 1, 'speechiness': 0.258, 'acousticness': 0.0803, 'instrumentalness': 0, 'liveness': 0.13, 'valence': 0.582, 'tempo': 166.129, 'duration_ms': 207315, 'time_signature': 4}\n",
      "{'': 42, 'artist_name': 'Dylan Scott', 'track_name': 'My Girl', 'track_id': '6p5GuyEqQH5pv02ouEyogQ', 'danceability': 0.652, 'energy': 0.719, 'key': 1, 'loudness': -7.251, 'mode': 1, 'speechiness': 0.033, 'acousticness': 0.0353, 'instrumentalness': 0, 'liveness': 0.108, 'valence': 0.24, 'tempo': 94.969, 'duration_ms': 197640, 'time_signature': 4}\n",
      "{'': 43, 'artist_name': 'The Foundations', 'track_name': 'Build Me Up Buttercup', 'track_id': '6sPOmDulFtLzfX25zICNrC', 'danceability': 0.659, 'energy': 0.513, 'key': 0, 'loudness': -7.186, 'mode': 1, 'speechiness': 0.0293, 'acousticness': 0.315, 'instrumentalness': 0, 'liveness': 0.283, 'valence': 0.855, 'tempo': 133.609, 'duration_ms': 177533, 'time_signature': 4}\n",
      "{'': 44, 'artist_name': 'Aloe Blacc', 'track_name': 'The Man', 'track_id': '1FsH6OZCKLWbBgqj8JcCvO', 'danceability': 0.531, 'energy': 0.77, 'key': 11, 'loudness': -7.205, 'mode': 0, 'speechiness': 0.0434, 'acousticness': 0.0332, 'instrumentalness': 0, 'liveness': 0.235, 'valence': 0.504, 'tempo': 85.996, 'duration_ms': 255907, 'time_signature': 4}\n",
      "{'': 45, 'artist_name': 'The Jackson 5', 'track_name': 'I Want You Back', 'track_id': '3b0EOvScbZUc0qJx0E1L2z', 'danceability': 0.639, 'energy': 0.548, 'key': 8, 'loudness': -13.534, 'mode': 1, 'speechiness': 0.0394, 'acousticness': 0.29, 'instrumentalness': 9.68e-05, 'liveness': 0.366, 'valence': 0.887, 'tempo': 98.359, 'duration_ms': 176333, 'time_signature': 4}\n",
      "{'': 46, 'artist_name': 'Hailee Steinfeld', 'track_name': 'Starving', 'track_id': '6875MeXyCW0wLyT72Eetmo', 'danceability': 0.671, 'energy': 0.613, 'key': 4, 'loudness': -4.225, 'mode': 1, 'speechiness': 0.102, 'acousticness': 0.414, 'instrumentalness': 0, 'liveness': 0.102, 'valence': 0.498, 'tempo': 99.845, 'duration_ms': 181933, 'time_signature': 4}\n",
      "{'': 47, 'artist_name': 'Walker Hayes', 'track_name': 'You Broke Up with Me', 'track_id': '6UsoV6X96Rox9mfxoz7SFy', 'danceability': 0.846, 'energy': 0.711, 'key': 0, 'loudness': -7.939, 'mode': 1, 'speechiness': 0.061, 'acousticness': 0.496, 'instrumentalness': 0, 'liveness': 0.247, 'valence': 0.883, 'tempo': 120.013, 'duration_ms': 197840, 'time_signature': 4}\n",
      "{'': 48, 'artist_name': 'Jorge Ben Jor', 'track_name': 'Oe Oe', 'track_id': '5bqegcq469YHZNorOeQsZG', 'danceability': 0.704, 'energy': 0.584, 'key': 7, 'loudness': -13.343, 'mode': 0, 'speechiness': 0.0511, 'acousticness': 0.116, 'instrumentalness': 0.000375, 'liveness': 0.0606, 'valence': 0.961, 'tempo': 114.83, 'duration_ms': 193800, 'time_signature': 4}\n",
      "{'': 49, 'artist_name': 'The Beginning Of The End', 'track_name': 'Surrey Ride', 'track_id': '2RHcq2YR7E7cNpvrRaUEv0', 'danceability': 0.561, 'energy': 0.824, 'key': 2, 'loudness': -7.512, 'mode': 1, 'speechiness': 0.0799, 'acousticness': 0.036, 'instrumentalness': 0, 'liveness': 0.25, 'valence': 0.771, 'tempo': 130.916, 'duration_ms': 278373, 'time_signature': 4}\n",
      "{'': 50, 'artist_name': 'Capleton', 'track_name': 'No Guns', 'track_id': '5quwFWAZbQFptxpdeUwhhR', 'danceability': 0.674, 'energy': 0.725, 'key': 1, 'loudness': -4.194, 'mode': 1, 'speechiness': 0.194, 'acousticness': 0.00831, 'instrumentalness': 0, 'liveness': 0.115, 'valence': 0.55, 'tempo': 82.601, 'duration_ms': 203173, 'time_signature': 4}\n",
      "{'': 51, 'artist_name': 'Dabrye', 'track_name': 'Air (feat. Doom)', 'track_id': '6f89x24t1fyDVRgLpN2Zz9', 'danceability': 0.532, 'energy': 0.721, 'key': 10, 'loudness': -6.184, 'mode': 0, 'speechiness': 0.0618, 'acousticness': 0.388, 'instrumentalness': 0.0128, 'liveness': 0.484, 'valence': 0.468, 'tempo': 94.704, 'duration_ms': 190200, 'time_signature': 4}\n",
      "{'': 52, 'artist_name': 'Teebs', 'track_name': 'Archipelago', 'track_id': '3THLm08Nd6uyLpFVpm0ChG', 'danceability': 0.352, 'energy': 0.817, 'key': 11, 'loudness': -7.85, 'mode': 1, 'speechiness': 0.447, 'acousticness': 0.000358, 'instrumentalness': 0.835, 'liveness': 0.225, 'valence': 0.504, 'tempo': 101.66, 'duration_ms': 92842, 'time_signature': 3}\n",
      "{'': 53, 'artist_name': 'Teebs', 'track_name': 'Anchor Steam', 'track_id': '7aU0rf314pXXpBLvl1WAri', 'danceability': 0.491, 'energy': 0.66, 'key': 6, 'loudness': -8.255, 'mode': 0, 'speechiness': 0.15, 'acousticness': 0.238, 'instrumentalness': 0.553, 'liveness': 0.166, 'valence': 0.528, 'tempo': 125.079, 'duration_ms': 111323, 'time_signature': 4}\n",
      "{'': 54, 'artist_name': 'Teebs', 'track_name': 'Rains', 'track_id': '6G2jqQwfGLA6tcttfrBbXv', 'danceability': 0.263, 'energy': 0.872, 'key': 2, 'loudness': -6.727, 'mode': 1, 'speechiness': 0.0883, 'acousticness': 0.676, 'instrumentalness': 0.749, 'liveness': 0.126, 'valence': 0.13, 'tempo': 84.741, 'duration_ms': 209187, 'time_signature': 3}\n",
      "{'': 55, 'artist_name': 'Teebs', 'track_name': 'Untitled 4', 'track_id': '7cMtyvXTQwVL6dcfS3VRjr', 'danceability': 0.468, 'energy': 0.612, 'key': 8, 'loudness': -10.171, 'mode': 1, 'speechiness': 0.169, 'acousticness': 0.665, 'instrumentalness': 0.0725, 'liveness': 0.12, 'valence': 0.31, 'tempo': 95.577, 'duration_ms': 118926, 'time_signature': 4}\n",
      "{'': 56, 'artist_name': 'Daedelus', 'track_name': \"You've Heard\", 'track_id': '18xXsm092KjjO65WiN1HUC', 'danceability': 0.355, 'energy': 0.907, 'key': 9, 'loudness': -12.219, 'mode': 1, 'speechiness': 0.122, 'acousticness': 0.051, 'instrumentalness': 0.637, 'liveness': 0.153, 'valence': 0.101, 'tempo': 99.979, 'duration_ms': 147667, 'time_signature': 4}\n",
      "{'': 57, 'artist_name': 'Nosaj Thing', 'track_name': 'Aquarium', 'track_id': '4ZOv9mx6Lz7RRaBFi5UNaE', 'danceability': 0.635, 'energy': 0.655, 'key': 0, 'loudness': -9.521, 'mode': 1, 'speechiness': 0.0484, 'acousticness': 0.15, 'instrumentalness': 0.553, 'liveness': 0.129, 'valence': 0.271, 'tempo': 91.026, 'duration_ms': 184000, 'time_signature': 4}\n",
      "{'': 58, 'artist_name': 'Flying Lotus', 'track_name': 'Zodiac Shit', 'track_id': '4GtN7yHlsvQanJfp2Qzw1A', 'danceability': 0.346, 'energy': 0.753, 'key': 10, 'loudness': -4.606, 'mode': 0, 'speechiness': 0.273, 'acousticness': 0.0229, 'instrumentalness': 0.0641, 'liveness': 0.3, 'valence': 0.184, 'tempo': 79.275, 'duration_ms': 164640, 'time_signature': 4}\n",
      "{'': 59, 'artist_name': 'Gold Panda', 'track_name': 'Marriage', 'track_id': '4ghDkdYcnlFxNeYvaw8q3W', 'danceability': 0.312, 'energy': 0.912, 'key': 7, 'loudness': -6.62, 'mode': 1, 'speechiness': 0.225, 'acousticness': 0.0389, 'instrumentalness': 0.715, 'liveness': 0.365, 'valence': 0.126, 'tempo': 119.924, 'duration_ms': 281360, 'time_signature': 4}\n",
      "{'': 60, 'artist_name': 'Gold Panda', 'track_name': 'Reprise - T Hemingway Remix', 'track_id': '5OPL8hepo5D4CiAYTZMhNX', 'danceability': 0.635, 'energy': 0.522, 'key': 11, 'loudness': -9.703, 'mode': 0, 'speechiness': 0.0349, 'acousticness': 0.000323, 'instrumentalness': 0.845, 'liveness': 0.0632, 'valence': 0.254, 'tempo': 132.018, 'duration_ms': 231840, 'time_signature': 4}\n",
      "{'': 61, 'artist_name': 'Mount Kimbie', 'track_name': 'Home Recording', 'track_id': '4lY1UZ3gpZtlsg2sMmzm6z', 'danceability': 0.497, 'energy': 0.718, 'key': 4, 'loudness': -9.267, 'mode': 0, 'speechiness': 0.0467, 'acousticness': 0.77, 'instrumentalness': 0.673, 'liveness': 0.11, 'valence': 0.116, 'tempo': 108.034, 'duration_ms': 276987, 'time_signature': 4}\n",
      "{'': 62, 'artist_name': 'Mount Kimbie', 'track_name': 'Break Well', 'track_id': '5bscOBLndGTg20cdifsbXe', 'danceability': 0.279, 'energy': 0.422, 'key': 5, 'loudness': -9.74, 'mode': 0, 'speechiness': 0.0433, 'acousticness': 0.851, 'instrumentalness': 0.906, 'liveness': 0.121, 'valence': 0.042, 'tempo': 119.91, 'duration_ms': 222267, 'time_signature': 4}\n",
      "{'': 63, 'artist_name': 'Mount Kimbie', 'track_name': 'So Many Times, So Many Ways', 'track_id': '5SKuBcQfp4vbz3XYyWeg9p', 'danceability': 0.301, 'energy': 0.564, 'key': 7, 'loudness': -12.282, 'mode': 1, 'speechiness': 0.0487, 'acousticness': 0.791, 'instrumentalness': 0.943, 'liveness': 0.0621, 'valence': 0.779, 'tempo': 165.012, 'duration_ms': 247533, 'time_signature': 3}\n",
      "{'': 64, 'artist_name': 'Dabrye', 'track_name': 'With A Professional', 'track_id': '7b6oWgkZp7palt2p8Hu8pA', 'danceability': 0.78, 'energy': 0.398, 'key': 10, 'loudness': -11.077, 'mode': 0, 'speechiness': 0.239, 'acousticness': 0.492, 'instrumentalness': 0.39, 'liveness': 0.0985, 'valence': 0.759, 'tempo': 196.133, 'duration_ms': 229080, 'time_signature': 4}\n",
      "{'': 65, 'artist_name': 'Cam’ron', 'track_name': 'Killa Cam / Roll That Skit', 'track_id': '4zukWwrha2XMpfHLr5Ot7j', 'danceability': 0.648, 'energy': 0.841, 'key': 11, 'loudness': -5.328, 'mode': 1, 'speechiness': 0.27, 'acousticness': 0.0116, 'instrumentalness': 1.01e-06, 'liveness': 0.333, 'valence': 0.505, 'tempo': 79.976, 'duration_ms': 264600, 'time_signature': 4}\n",
      "{'': 66, 'artist_name': 'Still Corners', 'track_name': 'Berlin Lovers', 'track_id': '0YktlLfSzCukyC7ZsBdaju', 'danceability': 0.766, 'energy': 0.374, 'key': 11, 'loudness': -7.951, 'mode': 0, 'speechiness': 0.0469, 'acousticness': 0.324, 'instrumentalness': 4.49e-06, 'liveness': 0.0814, 'valence': 0.923, 'tempo': 107.03, 'duration_ms': 154773, 'time_signature': 4}\n",
      "{'': 67, 'artist_name': 'Hoodie Allen', 'track_name': 'Champagne and Pools (feat. Blackbear & Kyle)', 'track_id': '7HytU9V8vMCUayply0lYBq', 'danceability': 0.61, 'energy': 0.641, 'key': 9, 'loudness': -4.352, 'mode': 0, 'speechiness': 0.268, 'acousticness': 0.519, 'instrumentalness': 0, 'liveness': 0.902, 'valence': 0.852, 'tempo': 67.413, 'duration_ms': 214413, 'time_signature': 4}\n",
      "{'': 68, 'artist_name': 'Zara Larsson', 'track_name': 'Lush Life', 'track_id': '1rIKgCH4H52lrvDcz50hS8', 'danceability': 0.694, 'energy': 0.712, 'key': 7, 'loudness': -3.923, 'mode': 0, 'speechiness': 0.046, 'acousticness': 0.132, 'instrumentalness': 0, 'liveness': 0.211, 'valence': 0.799, 'tempo': 98.023, 'duration_ms': 201122, 'time_signature': 4}\n",
      "{'': 69, 'artist_name': 'Ariana Grande', 'track_name': 'Into You', 'track_id': '7yHEDfrJNd0zWOfXwydNH0', 'danceability': 0.636, 'energy': 0.727, 'key': 9, 'loudness': -5.852, 'mode': 1, 'speechiness': 0.106, 'acousticness': 0.0161, 'instrumentalness': 1.12e-06, 'liveness': 0.151, 'valence': 0.358, 'tempo': 107.988, 'duration_ms': 244453, 'time_signature': 4}\n",
      "{'': 70, 'artist_name': 'Hoodie Allen', 'track_name': 'Fame Is for Assholes (feat. Chiddy)', 'track_id': '3D0b0441vvXFJvgbaiDyp3', 'danceability': 0.817, 'energy': 0.709, 'key': 9, 'loudness': -5.682, 'mode': 0, 'speechiness': 0.0541, 'acousticness': 0.0141, 'instrumentalness': 0, 'liveness': 0.0756, 'valence': 0.647, 'tempo': 114.012, 'duration_ms': 196456, 'time_signature': 4}\n",
      "{'': 71, 'artist_name': 'Drake', 'track_name': 'Too Good', 'track_id': '11KJSRSgaDxqydKYiD2Jew', 'danceability': 0.804, 'energy': 0.648, 'key': 7, 'loudness': -7.805, 'mode': 1, 'speechiness': 0.117, 'acousticness': 0.0573, 'instrumentalness': 3.49e-05, 'liveness': 0.102, 'valence': 0.392, 'tempo': 117.983, 'duration_ms': 263373, 'time_signature': 4}\n",
      "{'': 72, 'artist_name': 'Drake', 'track_name': 'Legend', 'track_id': '1ID1QFSNNxi0hiZCNcwjUC', 'danceability': 0.714, 'energy': 0.563, 'key': 1, 'loudness': -7.574, 'mode': 1, 'speechiness': 0.0723, 'acousticness': 0.0266, 'instrumentalness': 0, 'liveness': 0.0776, 'valence': 0.31, 'tempo': 100.091, 'duration_ms': 241853, 'time_signature': 4}\n",
      "{'': 73, 'artist_name': 'Drake', 'track_name': 'Energy', 'track_id': '79XrkTOfV1AqySNjVlygpW', 'danceability': 0.747, 'energy': 0.571, 'key': 11, 'loudness': -7.916, 'mode': 1, 'speechiness': 0.478, 'acousticness': 0.38, 'instrumentalness': 0, 'liveness': 0.534, 'valence': 0.553, 'tempo': 172.104, 'duration_ms': 181933, 'time_signature': 4}\n",
      "{'': 74, 'artist_name': 'Drake', 'track_name': 'Know Yourself', 'track_id': '5InOp6q2vvx0fShv3bzFLZ', 'danceability': 0.72, 'energy': 0.412, 'key': 11, 'loudness': -8.687, 'mode': 0, 'speechiness': 0.223, 'acousticness': 0.196, 'instrumentalness': 0, 'liveness': 0.342, 'valence': 0.179, 'tempo': 114.408, 'duration_ms': 275840, 'time_signature': 4}\n",
      "{'': 75, 'artist_name': 'Hoodie Allen', 'track_name': 'Intro to Anxiety', 'track_id': '3dJ9SKpD5mClbLs6g1J3Bs', 'danceability': 0.686, 'energy': 0.904, 'key': 5, 'loudness': -4.268, 'mode': 0, 'speechiness': 0.213, 'acousticness': 0.0857, 'instrumentalness': 0, 'liveness': 0.124, 'valence': 0.665, 'tempo': 86.355, 'duration_ms': 178426, 'time_signature': 4}\n",
      "{'': 76, 'artist_name': 'Hoodie Allen', 'track_name': 'Surprise Party (feat. Blackbear)', 'track_id': '5UiT4e4DHwZrcVIXojU5um', 'danceability': 0.671, 'energy': 0.699, 'key': 6, 'loudness': -4.224, 'mode': 0, 'speechiness': 0.0647, 'acousticness': 0.00453, 'instrumentalness': 0.000277, 'liveness': 0.173, 'valence': 0.379, 'tempo': 72.946, 'duration_ms': 188040, 'time_signature': 4}\n",
      "{'': 77, 'artist_name': 'Hailee Steinfeld', 'track_name': 'Starving', 'track_id': '6875MeXyCW0wLyT72Eetmo', 'danceability': 0.671, 'energy': 0.613, 'key': 4, 'loudness': -4.225, 'mode': 1, 'speechiness': 0.102, 'acousticness': 0.414, 'instrumentalness': 0, 'liveness': 0.102, 'valence': 0.498, 'tempo': 99.845, 'duration_ms': 181933, 'time_signature': 4}\n",
      "{'': 78, 'artist_name': 'Zay Hilfigerrr', 'track_name': 'Juju On That Beat (TZ Anthem)', 'track_id': '1lItf5ZXJc1by9SbPeljFd', 'danceability': 0.807, 'energy': 0.887, 'key': 1, 'loudness': -3.892, 'mode': 1, 'speechiness': 0.275, 'acousticness': 0.00381, 'instrumentalness': 0, 'liveness': 0.391, 'valence': 0.78, 'tempo': 160.517, 'duration_ms': 144244, 'time_signature': 4}\n",
      "{'': 79, 'artist_name': 'M City JR', 'track_name': 'Bitch Bye!', 'track_id': '47LPgIO0yLKclghbREHa4X', 'danceability': 0.794, 'energy': 0.76, 'key': 6, 'loudness': -6.225, 'mode': 1, 'speechiness': 0.573, 'acousticness': 0.0189, 'instrumentalness': 0, 'liveness': 0.0888, 'valence': 0.526, 'tempo': 157.904, 'duration_ms': 161791, 'time_signature': 4}\n",
      "{'': 80, 'artist_name': 'Snoop Dogg', 'track_name': 'Young, Wild & Free (feat. Bruno Mars) - feat. Bruno Mars', 'track_id': '6YbhspuOar1D9WSSnfe7ds', 'danceability': 0.553, 'energy': 0.652, 'key': 0, 'loudness': -6.685, 'mode': 1, 'speechiness': 0.206, 'acousticness': 0.0897, 'instrumentalness': 0, 'liveness': 0.111, 'valence': 0.551, 'tempo': 94.505, 'duration_ms': 207347, 'time_signature': 4}\n",
      "{'': 81, 'artist_name': 'Selena Gomez', 'track_name': 'Me & My Girls', 'track_id': '4i55R0S2I64mhS5biNbECZ', 'danceability': 0.637, 'energy': 0.947, 'key': 2, 'loudness': -3.982, 'mode': 1, 'speechiness': 0.152, 'acousticness': 0.0152, 'instrumentalness': 0, 'liveness': 0.0595, 'valence': 0.348, 'tempo': 121.993, 'duration_ms': 210507, 'time_signature': 4}\n",
      "{'': 82, 'artist_name': 'Hoodie Allen', 'track_name': 'People Keep Talking', 'track_id': '1Mtchd33dJ8KlBLHacz55l', 'danceability': 0.772, 'energy': 0.754, 'key': 11, 'loudness': -4.476, 'mode': 0, 'speechiness': 0.172, 'acousticness': 0.144, 'instrumentalness': 0, 'liveness': 0.759, 'valence': 0.538, 'tempo': 147.919, 'duration_ms': 213320, 'time_signature': 4}\n",
      "{'': 83, 'artist_name': 'Kanye West', 'track_name': 'Stronger', 'track_id': '6C7RJEIUDqKkJRZVWdkfkH', 'danceability': 0.625, 'energy': 0.726, 'key': 10, 'loudness': -7.731, 'mode': 0, 'speechiness': 0.155, 'acousticness': 0.00728, 'instrumentalness': 0, 'liveness': 0.318, 'valence': 0.483, 'tempo': 103.98, 'duration_ms': 311867, 'time_signature': 4}\n",
      "{'': 84, 'artist_name': 'Kanye West', 'track_name': 'Father Stretch My Hands Pt. 1', 'track_id': '4KW1lqgSr8TKrvBII0Brf8', 'danceability': 0.724, 'energy': 0.573, 'key': 7, 'loudness': -4.113, 'mode': 1, 'speechiness': 0.0549, 'acousticness': 0.118, 'instrumentalness': 0, 'liveness': 0.538, 'valence': 0.438, 'tempo': 113.088, 'duration_ms': 135920, 'time_signature': 4}\n",
      "{'': 85, 'artist_name': 'Aminé', 'track_name': 'Caroline', 'track_id': '5hTpBe8h35rJ67eAWHQsJx', 'danceability': 0.94, 'energy': 0.335, 'key': 5, 'loudness': -10.179, 'mode': 0, 'speechiness': 0.505, 'acousticness': 0.17, 'instrumentalness': 0, 'liveness': 0.262, 'valence': 0.707, 'tempo': 120.04, 'duration_ms': 209640, 'time_signature': 4}\n",
      "{'': 86, 'artist_name': 'G-Eazy', 'track_name': \"Let's Get Lost\", 'track_id': '5DSr1NMci58MEgS20vivSL', 'danceability': 0.671, 'energy': 0.672, 'key': 4, 'loudness': -9.188, 'mode': 0, 'speechiness': 0.12, 'acousticness': 0.103, 'instrumentalness': 3.98e-05, 'liveness': 0.074, 'valence': 0.186, 'tempo': 117.96, 'duration_ms': 240680, 'time_signature': 4}\n",
      "{'': 87, 'artist_name': 'Tiësto', 'track_name': 'Wasted', 'track_id': '2CAK2t1reUgPK6OMgAMURB', 'danceability': 0.638, 'energy': 0.816, 'key': 2, 'loudness': -5.503, 'mode': 1, 'speechiness': 0.0308, 'acousticness': 0.00149, 'instrumentalness': 0.00115, 'liveness': 0.195, 'valence': 0.386, 'tempo': 112.014, 'duration_ms': 190014, 'time_signature': 4}\n",
      "{'': 88, 'artist_name': 'Migos', 'track_name': 'Versace (Remix)', 'track_id': '0XGLsSU6wtfnKXiMNvQr61', 'danceability': 0.845, 'energy': 0.705, 'key': 6, 'loudness': -4.271, 'mode': 0, 'speechiness': 0.243, 'acousticness': 0.0218, 'instrumentalness': 0, 'liveness': 0.339, 'valence': 0.334, 'tempo': 132.05, 'duration_ms': 246047, 'time_signature': 4}\n",
      "{'': 89, 'artist_name': 'MØ', 'track_name': 'Final Song', 'track_id': '4qqArAiTPueDxIp7cf87h7', 'danceability': 0.695, 'energy': 0.672, 'key': 1, 'loudness': -6.109, 'mode': 0, 'speechiness': 0.0345, 'acousticness': 0.014, 'instrumentalness': 7.95e-05, 'liveness': 0.0756, 'valence': 0.245, 'tempo': 104.988, 'duration_ms': 235827, 'time_signature': 4}\n",
      "{'': 90, 'artist_name': 'Rae Sremmurd', 'track_name': 'Black Beatles', 'track_id': '6fujklziTHa8uoM5OQSfIo', 'danceability': 0.794, 'energy': 0.632, 'key': 0, 'loudness': -6.163, 'mode': 1, 'speechiness': 0.0649, 'acousticness': 0.142, 'instrumentalness': 0, 'liveness': 0.128, 'valence': 0.355, 'tempo': 145.926, 'duration_ms': 291893, 'time_signature': 4}\n",
      "{'': 91, 'artist_name': 'Martin Garrix', 'track_name': 'In the Name of Love', 'track_id': '04DwTuZ2VBdJCCC5TROn7L', 'danceability': 0.49, 'energy': 0.485, 'key': 4, 'loudness': -6.237, 'mode': 0, 'speechiness': 0.0406, 'acousticness': 0.0592, 'instrumentalness': 0, 'liveness': 0.337, 'valence': 0.196, 'tempo': 133.889, 'duration_ms': 195840, 'time_signature': 4}\n",
      "{'': 92, 'artist_name': 'Mako', 'track_name': 'Smoke Filled Room - Elephante Remix', 'track_id': '5fLZKOUE9D4JrbeAHV6pDI', 'danceability': 0.583, 'energy': 0.869, 'key': 11, 'loudness': -4.145, 'mode': 1, 'speechiness': 0.0629, 'acousticness': 0.00287, 'instrumentalness': 4.44e-06, 'liveness': 0.0871, 'valence': 0.799, 'tempo': 128.019, 'duration_ms': 223125, 'time_signature': 4}\n",
      "{'': 93, 'artist_name': 'ODESZA', 'track_name': 'Say My Name - Remix Edit', 'track_id': '30KNDMa4tOTbbzgObw8GQU', 'danceability': 0.617, 'energy': 0.896, 'key': 6, 'loudness': -5.262, 'mode': 0, 'speechiness': 0.0653, 'acousticness': 0.00901, 'instrumentalness': 0, 'liveness': 0.635, 'valence': 0.6, 'tempo': 125.057, 'duration_ms': 222240, 'time_signature': 4}\n",
      "{'': 94, 'artist_name': 'Kanye West', 'track_name': 'Famous', 'track_id': '19a3JfW8BQwqHWUMbcqSx8', 'danceability': 0.465, 'energy': 0.735, 'key': 6, 'loudness': -3.715, 'mode': 1, 'speechiness': 0.117, 'acousticness': 0.0711, 'instrumentalness': 0, 'liveness': 0.0975, 'valence': 0.409, 'tempo': 173.935, 'duration_ms': 196040, 'time_signature': 4}\n",
      "{'': 95, 'artist_name': 'Kanye West', 'track_name': 'I Love Kanye', 'track_id': '5CGS4UovzA7ftCJkLVXQju', 'danceability': 0.756, 'energy': 0.374, 'key': 5, 'loudness': -7.966, 'mode': 1, 'speechiness': 0.741, 'acousticness': 0.594, 'instrumentalness': 0, 'liveness': 0.217, 'valence': 0.966, 'tempo': 80.326, 'duration_ms': 44827, 'time_signature': 4}\n",
      "{'': 96, 'artist_name': 'Drake', 'track_name': 'Fake Love', 'track_id': '343YBumqHu19cGoGARUTsd', 'danceability': 0.928, 'energy': 0.481, 'key': 9, 'loudness': -9.35, 'mode': 0, 'speechiness': 0.287, 'acousticness': 0.105, 'instrumentalness': 0, 'liveness': 0.176, 'valence': 0.613, 'tempo': 134.007, 'duration_ms': 210937, 'time_signature': 4}\n",
      "{'': 97, 'artist_name': 'Eminem', 'track_name': 'Headlights', 'track_id': '14WB9RMGcLvEKWNgPP22fV', 'danceability': 0.691, 'energy': 0.795, 'key': 11, 'loudness': -3.654, 'mode': 1, 'speechiness': 0.14, 'acousticness': 0.164, 'instrumentalness': 0, 'liveness': 0.833, 'valence': 0.47, 'tempo': 146.687, 'duration_ms': 343032, 'time_signature': 4}\n",
      "{'': 98, 'artist_name': 'Machine Gun Kelly', 'track_name': 'Bad Things (with Camila Cabello)', 'track_id': '1PSBzsahR2AKwLJgx8ehBj', 'danceability': 0.697, 'energy': 0.691, 'key': 2, 'loudness': -4.757, 'mode': 1, 'speechiness': 0.146, 'acousticness': 0.214, 'instrumentalness': 0, 'liveness': 0.185, 'valence': 0.305, 'tempo': 137.853, 'duration_ms': 239293, 'time_signature': 4}\n",
      "{'': 99, 'artist_name': 'J. Cole', 'track_name': 'Wet Dreamz', 'track_id': '6Ius4TC0L3cN74HT7ENE6e', 'danceability': 0.517, 'energy': 0.705, 'key': 6, 'loudness': -8.205, 'mode': 0, 'speechiness': 0.364, 'acousticness': 0.0751, 'instrumentalness': 0, 'liveness': 0.128, 'valence': 0.584, 'tempo': 175.906, 'duration_ms': 239320, 'time_signature': 4}\n"
     ]
    }
   ],
   "source": [
    "print(len(track_list))\n",
    "\n",
    "for i in track_list[0:100]:\n",
    "    print(i)"
   ]
  },
  {
   "cell_type": "code",
   "execution_count": 10,
   "metadata": {},
   "outputs": [],
   "source": [
    "# Write back data into CSV file, similar style as the million track dataset\n",
    "fields = ['','artist_name','track_name','track_id']\n",
    "fields = fields + features\n",
    "OUTFILE = FILENAME[:-5] + \".csv\" # csv version of input json file\n",
    "with open(OUTFILE, \"w\", encoding=\"utf-8\") as output:\n",
    "    writer = csv.DictWriter(output, fieldnames=fields)\n",
    "    writer.writeheader()\n",
    "    writer.writerows(track_list)"
   ]
  }
 ],
 "metadata": {
  "kernelspec": {
   "display_name": "Python 3",
   "language": "python",
   "name": "python3"
  },
  "language_info": {
   "codemirror_mode": {
    "name": "ipython",
    "version": 3
   },
   "file_extension": ".py",
   "mimetype": "text/x-python",
   "name": "python",
   "nbconvert_exporter": "python",
   "pygments_lexer": "ipython3",
   "version": "3.10.5"
  }
 },
 "nbformat": 4,
 "nbformat_minor": 2
}
