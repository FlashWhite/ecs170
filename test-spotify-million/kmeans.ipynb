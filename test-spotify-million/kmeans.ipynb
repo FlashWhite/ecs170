{
 "cells": [
  {
   "cell_type": "code",
   "execution_count": 3,
   "metadata": {},
   "outputs": [],
   "source": [
    "import pandas as pd\n",
    "import numpy as np\n",
    "import seaborn as sns\n",
    "import plotly.express as px \n",
    "import matplotlib.pyplot as plt\n",
    "%matplotlib inline\n",
    "from sklearn.preprocessing import StandardScaler\n",
    "from sklearn.pipeline import Pipeline\n",
    "from sklearn.cluster import KMeans\n",
    "from sklearn.decomposition import PCA\n",
    "from sklearn.metrics.pairwise import cosine_similarity\n",
    "from sklearn.metrics import pairwise_distances_argmin_min\n",
    "from sklearn.metrics.pairwise import euclidean_distances\n",
    "from yellowbrick.target import FeatureCorrelation"
   ]
  },
  {
   "cell_type": "code",
   "execution_count": 4,
   "metadata": {},
   "outputs": [],
   "source": [
    "tracks = pd.read_csv('spotify_data.csv')\n",
    "tracks['genre'] = tracks['genre'].str.strip().str.lower()"
   ]
  },
  {
   "cell_type": "code",
   "execution_count": 5,
   "metadata": {},
   "outputs": [
    {
     "data": {
      "text/html": [
       "<div>\n",
       "<style scoped>\n",
       "    .dataframe tbody tr th:only-of-type {\n",
       "        vertical-align: middle;\n",
       "    }\n",
       "\n",
       "    .dataframe tbody tr th {\n",
       "        vertical-align: top;\n",
       "    }\n",
       "\n",
       "    .dataframe thead th {\n",
       "        text-align: right;\n",
       "    }\n",
       "</style>\n",
       "<table border=\"1\" class=\"dataframe\">\n",
       "  <thead>\n",
       "    <tr style=\"text-align: right;\">\n",
       "      <th></th>\n",
       "      <th>Unnamed: 0</th>\n",
       "      <th>artist_name</th>\n",
       "      <th>track_name</th>\n",
       "      <th>track_id</th>\n",
       "      <th>popularity</th>\n",
       "      <th>year</th>\n",
       "      <th>genre</th>\n",
       "      <th>danceability</th>\n",
       "      <th>energy</th>\n",
       "      <th>key</th>\n",
       "      <th>loudness</th>\n",
       "      <th>mode</th>\n",
       "      <th>speechiness</th>\n",
       "      <th>acousticness</th>\n",
       "      <th>instrumentalness</th>\n",
       "      <th>liveness</th>\n",
       "      <th>valence</th>\n",
       "      <th>tempo</th>\n",
       "      <th>duration_ms</th>\n",
       "      <th>time_signature</th>\n",
       "    </tr>\n",
       "  </thead>\n",
       "  <tbody>\n",
       "    <tr>\n",
       "      <th>0</th>\n",
       "      <td>0</td>\n",
       "      <td>Jason Mraz</td>\n",
       "      <td>I Won't Give Up</td>\n",
       "      <td>53QF56cjZA9RTuuMZDrSA6</td>\n",
       "      <td>68</td>\n",
       "      <td>2012</td>\n",
       "      <td>acoustic</td>\n",
       "      <td>0.483</td>\n",
       "      <td>0.303</td>\n",
       "      <td>4</td>\n",
       "      <td>-10.058</td>\n",
       "      <td>1</td>\n",
       "      <td>0.0429</td>\n",
       "      <td>0.6940</td>\n",
       "      <td>0.000000</td>\n",
       "      <td>0.1150</td>\n",
       "      <td>0.1390</td>\n",
       "      <td>133.406</td>\n",
       "      <td>240166</td>\n",
       "      <td>3</td>\n",
       "    </tr>\n",
       "    <tr>\n",
       "      <th>1</th>\n",
       "      <td>1</td>\n",
       "      <td>Jason Mraz</td>\n",
       "      <td>93 Million Miles</td>\n",
       "      <td>1s8tP3jP4GZcyHDsjvw218</td>\n",
       "      <td>50</td>\n",
       "      <td>2012</td>\n",
       "      <td>acoustic</td>\n",
       "      <td>0.572</td>\n",
       "      <td>0.454</td>\n",
       "      <td>3</td>\n",
       "      <td>-10.286</td>\n",
       "      <td>1</td>\n",
       "      <td>0.0258</td>\n",
       "      <td>0.4770</td>\n",
       "      <td>0.000014</td>\n",
       "      <td>0.0974</td>\n",
       "      <td>0.5150</td>\n",
       "      <td>140.182</td>\n",
       "      <td>216387</td>\n",
       "      <td>4</td>\n",
       "    </tr>\n",
       "    <tr>\n",
       "      <th>2</th>\n",
       "      <td>2</td>\n",
       "      <td>Joshua Hyslop</td>\n",
       "      <td>Do Not Let Me Go</td>\n",
       "      <td>7BRCa8MPiyuvr2VU3O9W0F</td>\n",
       "      <td>57</td>\n",
       "      <td>2012</td>\n",
       "      <td>acoustic</td>\n",
       "      <td>0.409</td>\n",
       "      <td>0.234</td>\n",
       "      <td>3</td>\n",
       "      <td>-13.711</td>\n",
       "      <td>1</td>\n",
       "      <td>0.0323</td>\n",
       "      <td>0.3380</td>\n",
       "      <td>0.000050</td>\n",
       "      <td>0.0895</td>\n",
       "      <td>0.1450</td>\n",
       "      <td>139.832</td>\n",
       "      <td>158960</td>\n",
       "      <td>4</td>\n",
       "    </tr>\n",
       "    <tr>\n",
       "      <th>3</th>\n",
       "      <td>3</td>\n",
       "      <td>Boyce Avenue</td>\n",
       "      <td>Fast Car</td>\n",
       "      <td>63wsZUhUZLlh1OsyrZq7sz</td>\n",
       "      <td>58</td>\n",
       "      <td>2012</td>\n",
       "      <td>acoustic</td>\n",
       "      <td>0.392</td>\n",
       "      <td>0.251</td>\n",
       "      <td>10</td>\n",
       "      <td>-9.845</td>\n",
       "      <td>1</td>\n",
       "      <td>0.0363</td>\n",
       "      <td>0.8070</td>\n",
       "      <td>0.000000</td>\n",
       "      <td>0.0797</td>\n",
       "      <td>0.5080</td>\n",
       "      <td>204.961</td>\n",
       "      <td>304293</td>\n",
       "      <td>4</td>\n",
       "    </tr>\n",
       "    <tr>\n",
       "      <th>4</th>\n",
       "      <td>4</td>\n",
       "      <td>Andrew Belle</td>\n",
       "      <td>Sky's Still Blue</td>\n",
       "      <td>6nXIYClvJAfi6ujLiKqEq8</td>\n",
       "      <td>54</td>\n",
       "      <td>2012</td>\n",
       "      <td>acoustic</td>\n",
       "      <td>0.430</td>\n",
       "      <td>0.791</td>\n",
       "      <td>6</td>\n",
       "      <td>-5.419</td>\n",
       "      <td>0</td>\n",
       "      <td>0.0302</td>\n",
       "      <td>0.0726</td>\n",
       "      <td>0.019300</td>\n",
       "      <td>0.1100</td>\n",
       "      <td>0.2170</td>\n",
       "      <td>171.864</td>\n",
       "      <td>244320</td>\n",
       "      <td>4</td>\n",
       "    </tr>\n",
       "    <tr>\n",
       "      <th>...</th>\n",
       "      <td>...</td>\n",
       "      <td>...</td>\n",
       "      <td>...</td>\n",
       "      <td>...</td>\n",
       "      <td>...</td>\n",
       "      <td>...</td>\n",
       "      <td>...</td>\n",
       "      <td>...</td>\n",
       "      <td>...</td>\n",
       "      <td>...</td>\n",
       "      <td>...</td>\n",
       "      <td>...</td>\n",
       "      <td>...</td>\n",
       "      <td>...</td>\n",
       "      <td>...</td>\n",
       "      <td>...</td>\n",
       "      <td>...</td>\n",
       "      <td>...</td>\n",
       "      <td>...</td>\n",
       "      <td>...</td>\n",
       "    </tr>\n",
       "    <tr>\n",
       "      <th>1159759</th>\n",
       "      <td>1473391</td>\n",
       "      <td>Nicola Conte</td>\n",
       "      <td>Black Spirits</td>\n",
       "      <td>0m27F0IGHLGAWhqd6ccYst</td>\n",
       "      <td>4</td>\n",
       "      <td>2011</td>\n",
       "      <td>trip-hop</td>\n",
       "      <td>0.373</td>\n",
       "      <td>0.742</td>\n",
       "      <td>10</td>\n",
       "      <td>-6.453</td>\n",
       "      <td>0</td>\n",
       "      <td>0.0736</td>\n",
       "      <td>0.3250</td>\n",
       "      <td>0.000141</td>\n",
       "      <td>0.1590</td>\n",
       "      <td>0.5220</td>\n",
       "      <td>107.951</td>\n",
       "      <td>344013</td>\n",
       "      <td>3</td>\n",
       "    </tr>\n",
       "    <tr>\n",
       "      <th>1159760</th>\n",
       "      <td>1473392</td>\n",
       "      <td>Nicola Conte</td>\n",
       "      <td>Quiet Dawn</td>\n",
       "      <td>6er9p611eHEcUCU50j7D57</td>\n",
       "      <td>3</td>\n",
       "      <td>2011</td>\n",
       "      <td>trip-hop</td>\n",
       "      <td>0.516</td>\n",
       "      <td>0.675</td>\n",
       "      <td>7</td>\n",
       "      <td>-7.588</td>\n",
       "      <td>0</td>\n",
       "      <td>0.0326</td>\n",
       "      <td>0.7880</td>\n",
       "      <td>0.000129</td>\n",
       "      <td>0.1300</td>\n",
       "      <td>0.2640</td>\n",
       "      <td>119.897</td>\n",
       "      <td>285067</td>\n",
       "      <td>4</td>\n",
       "    </tr>\n",
       "    <tr>\n",
       "      <th>1159761</th>\n",
       "      <td>1473393</td>\n",
       "      <td>Amon Tobin</td>\n",
       "      <td>Morning Ms Candis</td>\n",
       "      <td>7jsMMqxy1tt0rH5FzYcZTQ</td>\n",
       "      <td>2</td>\n",
       "      <td>2011</td>\n",
       "      <td>trip-hop</td>\n",
       "      <td>0.491</td>\n",
       "      <td>0.440</td>\n",
       "      <td>5</td>\n",
       "      <td>-8.512</td>\n",
       "      <td>1</td>\n",
       "      <td>0.0274</td>\n",
       "      <td>0.4770</td>\n",
       "      <td>0.003130</td>\n",
       "      <td>0.0936</td>\n",
       "      <td>0.0351</td>\n",
       "      <td>100.076</td>\n",
       "      <td>214253</td>\n",
       "      <td>4</td>\n",
       "    </tr>\n",
       "    <tr>\n",
       "      <th>1159762</th>\n",
       "      <td>1473394</td>\n",
       "      <td>Peace Orchestra</td>\n",
       "      <td>Happy Christmas (War Is Over)</td>\n",
       "      <td>77lA1InUaXztuRk2vOzD1S</td>\n",
       "      <td>0</td>\n",
       "      <td>2011</td>\n",
       "      <td>trip-hop</td>\n",
       "      <td>0.480</td>\n",
       "      <td>0.405</td>\n",
       "      <td>0</td>\n",
       "      <td>-13.343</td>\n",
       "      <td>1</td>\n",
       "      <td>0.0276</td>\n",
       "      <td>0.4310</td>\n",
       "      <td>0.000063</td>\n",
       "      <td>0.1250</td>\n",
       "      <td>0.2020</td>\n",
       "      <td>133.885</td>\n",
       "      <td>239133</td>\n",
       "      <td>3</td>\n",
       "    </tr>\n",
       "    <tr>\n",
       "      <th>1159763</th>\n",
       "      <td>1473395</td>\n",
       "      <td>Mo' Horizons</td>\n",
       "      <td>Hit the Road Jack (Pé Na Éstrada)</td>\n",
       "      <td>4oMiOwhDZEdBuzAfhzRHbi</td>\n",
       "      <td>3</td>\n",
       "      <td>2011</td>\n",
       "      <td>trip-hop</td>\n",
       "      <td>0.782</td>\n",
       "      <td>0.861</td>\n",
       "      <td>1</td>\n",
       "      <td>-7.292</td>\n",
       "      <td>0</td>\n",
       "      <td>0.1250</td>\n",
       "      <td>0.2200</td>\n",
       "      <td>0.000008</td>\n",
       "      <td>0.0581</td>\n",
       "      <td>0.8570</td>\n",
       "      <td>89.987</td>\n",
       "      <td>212227</td>\n",
       "      <td>4</td>\n",
       "    </tr>\n",
       "  </tbody>\n",
       "</table>\n",
       "<p>1159748 rows × 20 columns</p>\n",
       "</div>"
      ],
      "text/plain": [
       "         Unnamed: 0      artist_name                         track_name  \\\n",
       "0                 0       Jason Mraz                    I Won't Give Up   \n",
       "1                 1       Jason Mraz                   93 Million Miles   \n",
       "2                 2    Joshua Hyslop                   Do Not Let Me Go   \n",
       "3                 3     Boyce Avenue                           Fast Car   \n",
       "4                 4     Andrew Belle                   Sky's Still Blue   \n",
       "...             ...              ...                                ...   \n",
       "1159759     1473391     Nicola Conte                      Black Spirits   \n",
       "1159760     1473392     Nicola Conte                         Quiet Dawn   \n",
       "1159761     1473393       Amon Tobin                  Morning Ms Candis   \n",
       "1159762     1473394  Peace Orchestra      Happy Christmas (War Is Over)   \n",
       "1159763     1473395     Mo' Horizons  Hit the Road Jack (Pé Na Éstrada)   \n",
       "\n",
       "                       track_id  popularity  year     genre  danceability  \\\n",
       "0        53QF56cjZA9RTuuMZDrSA6          68  2012  acoustic         0.483   \n",
       "1        1s8tP3jP4GZcyHDsjvw218          50  2012  acoustic         0.572   \n",
       "2        7BRCa8MPiyuvr2VU3O9W0F          57  2012  acoustic         0.409   \n",
       "3        63wsZUhUZLlh1OsyrZq7sz          58  2012  acoustic         0.392   \n",
       "4        6nXIYClvJAfi6ujLiKqEq8          54  2012  acoustic         0.430   \n",
       "...                         ...         ...   ...       ...           ...   \n",
       "1159759  0m27F0IGHLGAWhqd6ccYst           4  2011  trip-hop         0.373   \n",
       "1159760  6er9p611eHEcUCU50j7D57           3  2011  trip-hop         0.516   \n",
       "1159761  7jsMMqxy1tt0rH5FzYcZTQ           2  2011  trip-hop         0.491   \n",
       "1159762  77lA1InUaXztuRk2vOzD1S           0  2011  trip-hop         0.480   \n",
       "1159763  4oMiOwhDZEdBuzAfhzRHbi           3  2011  trip-hop         0.782   \n",
       "\n",
       "         energy  key  loudness  mode  speechiness  acousticness  \\\n",
       "0         0.303    4   -10.058     1       0.0429        0.6940   \n",
       "1         0.454    3   -10.286     1       0.0258        0.4770   \n",
       "2         0.234    3   -13.711     1       0.0323        0.3380   \n",
       "3         0.251   10    -9.845     1       0.0363        0.8070   \n",
       "4         0.791    6    -5.419     0       0.0302        0.0726   \n",
       "...         ...  ...       ...   ...          ...           ...   \n",
       "1159759   0.742   10    -6.453     0       0.0736        0.3250   \n",
       "1159760   0.675    7    -7.588     0       0.0326        0.7880   \n",
       "1159761   0.440    5    -8.512     1       0.0274        0.4770   \n",
       "1159762   0.405    0   -13.343     1       0.0276        0.4310   \n",
       "1159763   0.861    1    -7.292     0       0.1250        0.2200   \n",
       "\n",
       "         instrumentalness  liveness  valence    tempo  duration_ms  \\\n",
       "0                0.000000    0.1150   0.1390  133.406       240166   \n",
       "1                0.000014    0.0974   0.5150  140.182       216387   \n",
       "2                0.000050    0.0895   0.1450  139.832       158960   \n",
       "3                0.000000    0.0797   0.5080  204.961       304293   \n",
       "4                0.019300    0.1100   0.2170  171.864       244320   \n",
       "...                   ...       ...      ...      ...          ...   \n",
       "1159759          0.000141    0.1590   0.5220  107.951       344013   \n",
       "1159760          0.000129    0.1300   0.2640  119.897       285067   \n",
       "1159761          0.003130    0.0936   0.0351  100.076       214253   \n",
       "1159762          0.000063    0.1250   0.2020  133.885       239133   \n",
       "1159763          0.000008    0.0581   0.8570   89.987       212227   \n",
       "\n",
       "         time_signature  \n",
       "0                     3  \n",
       "1                     4  \n",
       "2                     4  \n",
       "3                     4  \n",
       "4                     4  \n",
       "...                 ...  \n",
       "1159759               3  \n",
       "1159760               4  \n",
       "1159761               4  \n",
       "1159762               3  \n",
       "1159763               4  \n",
       "\n",
       "[1159748 rows x 20 columns]"
      ]
     },
     "execution_count": 5,
     "metadata": {},
     "output_type": "execute_result"
    }
   ],
   "source": [
    "tracks.drop_duplicates(subset=['track_name', 'artist_name'], inplace=True)\n",
    "tracks.dropna()"
   ]
  },
  {
   "cell_type": "code",
   "execution_count": 6,
   "metadata": {},
   "outputs": [],
   "source": [
    "# features for clustering\n",
    "features = ['danceability', 'energy', 'key', 'loudness', 'mode',\n",
    "            'speechiness', 'acousticness', 'instrumentalness', 'liveness',\n",
    "            'valence', 'tempo', 'duration_ms', 'time_signature']"
   ]
  },
  {
   "cell_type": "markdown",
   "metadata": {},
   "source": [
    "#### Feature correlation with popularity"
   ]
  },
  {
   "cell_type": "code",
   "execution_count": 6,
   "metadata": {},
   "outputs": [
    {
     "data": {
      "image/png": "[encoded data removed]",
      "text/plain": [
       "<Figure size 2000x2000 with 1 Axes>"
      ]
     },
     "metadata": {},
     "output_type": "display_data"
    },
    {
     "data": {
      "text/plain": [
       "<AxesSubplot:title={'center':'Features correlation with dependent variable'}, xlabel='Pearson Correlation'>"
      ]
     },
     "execution_count": 6,
     "metadata": {},
     "output_type": "execute_result"
    }
   ],
   "source": [
    "numericFeatures = ['acousticness', 'danceability', 'energy', 'instrumentalness', 'liveness', 'loudness', 'speechiness', 'tempo', 'valence', 'duration_ms', 'key', 'mode', 'year']\n",
    "X, y = tracks[numericFeatures], tracks['popularity']\n",
    "\n",
    "features = np.array(numericFeatures)\n",
    "visualizer = FeatureCorrelation(labels=features)\n",
    "\n",
    "plt.rcParams['figure.figsize']=(20,20)\n",
    "visualizer.fit(X, y)\n",
    "visualizer.show()"
   ]
  },
  {
   "cell_type": "markdown",
   "metadata": {},
   "source": [
    "#### Music over time"
   ]
  },
  {
   "cell_type": "code",
   "execution_count": 7,
   "metadata": {},
   "outputs": [
    {
     "data": {
      "image/png": "[encoded data removed]",
      "text/plain": [
       "<Figure size 1100x600 with 1 Axes>"
      ]
     },
     "metadata": {},
     "output_type": "display_data"
    }
   ],
   "source": [
    "def getDecade(year):\n",
    "    decade = int(year / 10) * 10\n",
    "    return decade\n",
    "\n",
    "tracks['decade'] = tracks['year'].apply(getDecade)\n",
    "\n",
    "\n",
    "sns.set(rc={'figure.figsize':(11,6)})\n",
    "sns.countplot(x='decade', data=tracks)\n",
    "\n",
    "plt.show()"
   ]
  },
  {
   "cell_type": "code",
   "execution_count": 8,
   "metadata": {},
   "outputs": [],
   "source": [
    "# sound_features = ['acousticness', 'danceability', 'energy', 'instrumentalness', 'liveness', 'valence']\n",
    "# fig = px.line(tracks, x='year', y=sound_features)\n",
    "# fig.show()"
   ]
  },
  {
   "cell_type": "code",
   "execution_count": 9,
   "metadata": {},
   "outputs": [
    {
     "data": {
      "application/vnd.plotly.v1+json": {
       "config": {
        "plotlyServerURL": "https://plot.ly"
       },
       "data": [
        {
         "alignmentgroup": "True",
         "hovertemplate": "variable=valence<br>genre=%{x}<br>value=%{y}<extra></extra>",
         "legendgroup": "valence",
         "marker": {
          "color": "#636efa",
          "pattern": {
           "shape": ""
          }
         },
         "name": "valence",
         "offsetgroup": "valence",
         "orientation": "v",
         "showlegend": true,
         "textposition": "auto",
         "type": "bar",
         "x": [
          "dance",
          "hip-hop",
          "pop"
         ],
         "xaxis": "x",
         "y": [
          0.304,
          0.524,
          0.577
         ],
         "yaxis": "y"
        },
        {
         "alignmentgroup": "True",
         "hovertemplate": "variable=energy<br>genre=%{x}<br>value=%{y}<extra></extra>",
         "legendgroup": "energy",
         "marker": {
          "color": "#EF553B",
          "pattern": {
           "shape": ""
          }
         },
         "name": "energy",
         "offsetgroup": "energy",
         "orientation": "v",
         "showlegend": true,
         "textposition": "auto",
         "type": "bar",
         "x": [
          "dance",
          "hip-hop",
          "pop"
         ],
         "xaxis": "x",
         "y": [
          0.965,
          0.7070000000000001,
          0.6482857142857144
         ],
         "yaxis": "y"
        },
        {
         "alignmentgroup": "True",
         "hovertemplate": "variable=danceability<br>genre=%{x}<br>value=%{y}<extra></extra>",
         "legendgroup": "danceability",
         "marker": {
          "color": "#00cc96",
          "pattern": {
           "shape": ""
          }
         },
         "name": "danceability",
         "offsetgroup": "danceability",
         "orientation": "v",
         "showlegend": true,
         "textposition": "auto",
         "type": "bar",
         "x": [
          "dance",
          "hip-hop",
          "pop"
         ],
         "xaxis": "x",
         "y": [
          0.561,
          0.6995,
          0.6755714285714286
         ],
         "yaxis": "y"
        },
        {
         "alignmentgroup": "True",
         "hovertemplate": "variable=acousticness<br>genre=%{x}<br>value=%{y}<extra></extra>",
         "legendgroup": "acousticness",
         "marker": {
          "color": "#ab63fa",
          "pattern": {
           "shape": ""
          }
         },
         "name": "acousticness",
         "offsetgroup": "acousticness",
         "orientation": "v",
         "showlegend": true,
         "textposition": "auto",
         "type": "bar",
         "x": [
          "dance",
          "hip-hop",
          "pop"
         ],
         "xaxis": "x",
         "y": [
          0.00383,
          0.14325000000000002,
          0.28232857142857143
         ],
         "yaxis": "y"
        }
       ],
       "layout": {
        "barmode": "group",
        "legend": {
         "title": {
          "text": "Metrics"
         },
         "tracegroupgap": 0
        },
        "template": {
         "data": {
          "bar": [
           {
            "error_x": {
             "color": "#2a3f5f"
            },
            "error_y": {
             "color": "#2a3f5f"
            },
            "marker": {
             "line": {
              "color": "#E5ECF6",
              "width": 0.5
             },
             "pattern": {
              "fillmode": "overlay",
              "size": 10,
              "solidity": 0.2
             }
            },
            "type": "bar"
           }
          ],
          "barpolar": [
           {
            "marker": {
             "line": {
              "color": "#E5ECF6",
              "width": 0.5
             },
             "pattern": {
              "fillmode": "overlay",
              "size": 10,
              "solidity": 0.2
             }
            },
            "type": "barpolar"
           }
          ],
          "carpet": [
           {
            "aaxis": {
             "endlinecolor": "#2a3f5f",
             "gridcolor": "white",
             "linecolor": "white",
             "minorgridcolor": "white",
             "startlinecolor": "#2a3f5f"
            },
            "baxis": {
             "endlinecolor": "#2a3f5f",
             "gridcolor": "white",
             "linecolor": "white",
             "minorgridcolor": "white",
             "startlinecolor": "#2a3f5f"
            },
            "type": "carpet"
           }
          ],
          "choropleth": [
           {
            "colorbar": {
             "outlinewidth": 0,
             "ticks": ""
            },
            "type": "choropleth"
           }
          ],
          "contour": [
           {
            "colorbar": {
             "outlinewidth": 0,
             "ticks": ""
            },
            "colorscale": [
             [
              0,
              "#0d0887"
             ],
             [
              0.1111111111111111,
              "#46039f"
             ],
             [
              0.2222222222222222,
              "#7201a8"
             ],
             [
              0.3333333333333333,
              "#9c179e"
             ],
             [
              0.4444444444444444,
              "#bd3786"
             ],
             [
              0.5555555555555556,
              "#d8576b"
             ],
             [
              0.6666666666666666,
              "#ed7953"
             ],
             [
              0.7777777777777778,
              "#fb9f3a"
             ],
             [
              0.8888888888888888,
              "#fdca26"
             ],
             [
              1,
              "#f0f921"
             ]
            ],
            "type": "contour"
           }
          ],
          "contourcarpet": [
           {
            "colorbar": {
             "outlinewidth": 0,
             "ticks": ""
            },
            "type": "contourcarpet"
           }
          ],
          "heatmap": [
           {
            "colorbar": {
             "outlinewidth": 0,
             "ticks": ""
            },
            "colorscale": [
             [
              0,
              "#0d0887"
             ],
             [
              0.1111111111111111,
              "#46039f"
             ],
             [
              0.2222222222222222,
              "#7201a8"
             ],
             [
              0.3333333333333333,
              "#9c179e"
             ],
             [
              0.4444444444444444,
              "#bd3786"
             ],
             [
              0.5555555555555556,
              "#d8576b"
             ],
             [
              0.6666666666666666,
              "#ed7953"
             ],
             [
              0.7777777777777778,
              "#fb9f3a"
             ],
             [
              0.8888888888888888,
              "#fdca26"
             ],
             [
              1,
              "#f0f921"
             ]
            ],
            "type": "heatmap"
           }
          ],
          "heatmapgl": [
           {
            "colorbar": {
             "outlinewidth": 0,
             "ticks": ""
            },
            "colorscale": [
             [
              0,
              "#0d0887"
             ],
             [
              0.1111111111111111,
              "#46039f"
             ],
             [
              0.2222222222222222,
              "#7201a8"
             ],
             [
              0.3333333333333333,
              "#9c179e"
             ],
             [
              0.4444444444444444,
              "#bd3786"
             ],
             [
              0.5555555555555556,
              "#d8576b"
             ],
             [
              0.6666666666666666,
              "#ed7953"
             ],
             [
              0.7777777777777778,
              "#fb9f3a"
             ],
             [
              0.8888888888888888,
              "#fdca26"
             ],
             [
              1,
              "#f0f921"
             ]
            ],
            "type": "heatmapgl"
           }
          ],
          "histogram": [
           {
            "marker": {
             "pattern": {
              "fillmode": "overlay",
              "size": 10,
              "solidity": 0.2
             }
            },
            "type": "histogram"
           }
          ],
          "histogram2d": [
           {
            "colorbar": {
             "outlinewidth": 0,
             "ticks": ""
            },
            "colorscale": [
             [
              0,
              "#0d0887"
             ],
             [
              0.1111111111111111,
              "#46039f"
             ],
             [
              0.2222222222222222,
              "#7201a8"
             ],
             [
              0.3333333333333333,
              "#9c179e"
             ],
             [
              0.4444444444444444,
              "#bd3786"
             ],
             [
              0.5555555555555556,
              "#d8576b"
             ],
             [
              0.6666666666666666,
              "#ed7953"
             ],
             [
              0.7777777777777778,
              "#fb9f3a"
             ],
             [
              0.8888888888888888,
              "#fdca26"
             ],
             [
              1,
              "#f0f921"
             ]
            ],
            "type": "histogram2d"
           }
          ],
          "histogram2dcontour": [
           {
            "colorbar": {
             "outlinewidth": 0,
             "ticks": ""
            },
            "colorscale": [
             [
              0,
              "#0d0887"
             ],
             [
              0.1111111111111111,
              "#46039f"
             ],
             [
              0.2222222222222222,
              "#7201a8"
             ],
             [
              0.3333333333333333,
              "#9c179e"
             ],
             [
              0.4444444444444444,
              "#bd3786"
             ],
             [
              0.5555555555555556,
              "#d8576b"
             ],
             [
              0.6666666666666666,
              "#ed7953"
             ],
             [
              0.7777777777777778,
              "#fb9f3a"
             ],
             [
              0.8888888888888888,
              "#fdca26"
             ],
             [
              1,
              "#f0f921"
             ]
            ],
            "type": "histogram2dcontour"
           }
          ],
          "mesh3d": [
           {
            "colorbar": {
             "outlinewidth": 0,
             "ticks": ""
            },
            "type": "mesh3d"
           }
          ],
          "parcoords": [
           {
            "line": {
             "colorbar": {
              "outlinewidth": 0,
              "ticks": ""
             }
            },
            "type": "parcoords"
           }
          ],
          "pie": [
           {
            "automargin": true,
            "type": "pie"
           }
          ],
          "scatter": [
           {
            "fillpattern": {
             "fillmode": "overlay",
             "size": 10,
             "solidity": 0.2
            },
            "type": "scatter"
           }
          ],
          "scatter3d": [
           {
            "line": {
             "colorbar": {
              "outlinewidth": 0,
              "ticks": ""
             }
            },
            "marker": {
             "colorbar": {
              "outlinewidth": 0,
              "ticks": ""
             }
            },
            "type": "scatter3d"
           }
          ],
          "scattercarpet": [
           {
            "marker": {
             "colorbar": {
              "outlinewidth": 0,
              "ticks": ""
             }
            },
            "type": "scattercarpet"
           }
          ],
          "scattergeo": [
           {
            "marker": {
             "colorbar": {
              "outlinewidth": 0,
              "ticks": ""
             }
            },
            "type": "scattergeo"
           }
          ],
          "scattergl": [
           {
            "marker": {
             "colorbar": {
              "outlinewidth": 0,
              "ticks": ""
             }
            },
            "type": "scattergl"
           }
          ],
          "scattermapbox": [
           {
            "marker": {
             "colorbar": {
              "outlinewidth": 0,
              "ticks": ""
             }
            },
            "type": "scattermapbox"
           }
          ],
          "scatterpolar": [
           {
            "marker": {
             "colorbar": {
              "outlinewidth": 0,
              "ticks": ""
             }
            },
            "type": "scatterpolar"
           }
          ],
          "scatterpolargl": [
           {
            "marker": {
             "colorbar": {
              "outlinewidth": 0,
              "ticks": ""
             }
            },
            "type": "scatterpolargl"
           }
          ],
          "scatterternary": [
           {
            "marker": {
             "colorbar": {
              "outlinewidth": 0,
              "ticks": ""
             }
            },
            "type": "scatterternary"
           }
          ],
          "surface": [
           {
            "colorbar": {
             "outlinewidth": 0,
             "ticks": ""
            },
            "colorscale": [
             [
              0,
              "#0d0887"
             ],
             [
              0.1111111111111111,
              "#46039f"
             ],
             [
              0.2222222222222222,
              "#7201a8"
             ],
             [
              0.3333333333333333,
              "#9c179e"
             ],
             [
              0.4444444444444444,
              "#bd3786"
             ],
             [
              0.5555555555555556,
              "#d8576b"
             ],
             [
              0.6666666666666666,
              "#ed7953"
             ],
             [
              0.7777777777777778,
              "#fb9f3a"
             ],
             [
              0.8888888888888888,
              "#fdca26"
             ],
             [
              1,
              "#f0f921"
             ]
            ],
            "type": "surface"
           }
          ],
          "table": [
           {
            "cells": {
             "fill": {
              "color": "#EBF0F8"
             },
             "line": {
              "color": "white"
             }
            },
            "header": {
             "fill": {
              "color": "#C8D4E3"
             },
             "line": {
              "color": "white"
             }
            },
            "type": "table"
           }
          ]
         },
         "layout": {
          "annotationdefaults": {
           "arrowcolor": "#2a3f5f",
           "arrowhead": 0,
           "arrowwidth": 1
          },
          "autotypenumbers": "strict",
          "coloraxis": {
           "colorbar": {
            "outlinewidth": 0,
            "ticks": ""
           }
          },
          "colorscale": {
           "diverging": [
            [
             0,
             "#8e0152"
            ],
            [
             0.1,
             "#c51b7d"
            ],
            [
             0.2,
             "#de77ae"
            ],
            [
             0.3,
             "#f1b6da"
            ],
            [
             0.4,
             "#fde0ef"
            ],
            [
             0.5,
             "#f7f7f7"
            ],
            [
             0.6,
             "#e6f5d0"
            ],
            [
             0.7,
             "#b8e186"
            ],
            [
             0.8,
             "#7fbc41"
            ],
            [
             0.9,
             "#4d9221"
            ],
            [
             1,
             "#276419"
            ]
           ],
           "sequential": [
            [
             0,
             "#0d0887"
            ],
            [
             0.1111111111111111,
             "#46039f"
            ],
            [
             0.2222222222222222,
             "#7201a8"
            ],
            [
             0.3333333333333333,
             "#9c179e"
            ],
            [
             0.4444444444444444,
             "#bd3786"
            ],
            [
             0.5555555555555556,
             "#d8576b"
            ],
            [
             0.6666666666666666,
             "#ed7953"
            ],
            [
             0.7777777777777778,
             "#fb9f3a"
            ],
            [
             0.8888888888888888,
             "#fdca26"
            ],
            [
             1,
             "#f0f921"
            ]
           ],
           "sequentialminus": [
            [
             0,
             "#0d0887"
            ],
            [
             0.1111111111111111,
             "#46039f"
            ],
            [
             0.2222222222222222,
             "#7201a8"
            ],
            [
             0.3333333333333333,
             "#9c179e"
            ],
            [
             0.4444444444444444,
             "#bd3786"
            ],
            [
             0.5555555555555556,
             "#d8576b"
            ],
            [
             0.6666666666666666,
             "#ed7953"
            ],
            [
             0.7777777777777778,
             "#fb9f3a"
            ],
            [
             0.8888888888888888,
             "#fdca26"
            ],
            [
             1,
             "#f0f921"
            ]
           ]
          },
          "colorway": [
           "#636efa",
           "#EF553B",
           "#00cc96",
           "#ab63fa",
           "#FFA15A",
           "#19d3f3",
           "#FF6692",
           "#B6E880",
           "#FF97FF",
           "#FECB52"
          ],
          "font": {
           "color": "#2a3f5f"
          },
          "geo": {
           "bgcolor": "white",
           "lakecolor": "white",
           "landcolor": "#E5ECF6",
           "showlakes": true,
           "showland": true,
           "subunitcolor": "white"
          },
          "hoverlabel": {
           "align": "left"
          },
          "hovermode": "closest",
          "mapbox": {
           "style": "light"
          },
          "paper_bgcolor": "white",
          "plot_bgcolor": "#E5ECF6",
          "polar": {
           "angularaxis": {
            "gridcolor": "white",
            "linecolor": "white",
            "ticks": ""
           },
           "bgcolor": "#E5ECF6",
           "radialaxis": {
            "gridcolor": "white",
            "linecolor": "white",
            "ticks": ""
           }
          },
          "scene": {
           "xaxis": {
            "backgroundcolor": "#E5ECF6",
            "gridcolor": "white",
            "gridwidth": 2,
            "linecolor": "white",
            "showbackground": true,
            "ticks": "",
            "zerolinecolor": "white"
           },
           "yaxis": {
            "backgroundcolor": "#E5ECF6",
            "gridcolor": "white",
            "gridwidth": 2,
            "linecolor": "white",
            "showbackground": true,
            "ticks": "",
            "zerolinecolor": "white"
           },
           "zaxis": {
            "backgroundcolor": "#E5ECF6",
            "gridcolor": "white",
            "gridwidth": 2,
            "linecolor": "white",
            "showbackground": true,
            "ticks": "",
            "zerolinecolor": "white"
           }
          },
          "shapedefaults": {
           "line": {
            "color": "#2a3f5f"
           }
          },
          "ternary": {
           "aaxis": {
            "gridcolor": "white",
            "linecolor": "white",
            "ticks": ""
           },
           "baxis": {
            "gridcolor": "white",
            "linecolor": "white",
            "ticks": ""
           },
           "bgcolor": "#E5ECF6",
           "caxis": {
            "gridcolor": "white",
            "linecolor": "white",
            "ticks": ""
           }
          },
          "title": {
           "x": 0.05
          },
          "xaxis": {
           "automargin": true,
           "gridcolor": "white",
           "linecolor": "white",
           "ticks": "",
           "title": {
            "standoff": 15
           },
           "zerolinecolor": "white",
           "zerolinewidth": 2
          },
          "yaxis": {
           "automargin": true,
           "gridcolor": "white",
           "linecolor": "white",
           "ticks": "",
           "title": {
            "standoff": 15
           },
           "zerolinecolor": "white",
           "zerolinewidth": 2
          }
         }
        },
        "title": {
         "text": "Average Metrics for Top 3 Genres"
        },
        "xaxis": {
         "anchor": "y",
         "domain": [
          0,
          1
         ],
         "title": {
          "text": "Genre"
         }
        },
        "yaxis": {
         "anchor": "x",
         "domain": [
          0,
          1
         ],
         "title": {
          "text": "Metrics"
         }
        }
       }
      }
     },
     "metadata": {},
     "output_type": "display_data"
    }
   ],
   "source": [
    "mean_metrics = tracks.nlargest(10, 'popularity')[['genre', 'valence', 'energy', 'danceability', 'acousticness']].groupby('genre').mean().reset_index()\n",
    "\n",
    "fig = px.bar(mean_metrics, x='genre', y=['valence', 'energy', 'danceability', 'acousticness'], barmode='group', title=\"Average Metrics for Top 3 Genres\")\n",
    "fig.update_layout(yaxis_title=\"Metrics\", xaxis_title=\"Genre\", legend_title=\"Metrics\")\n",
    "fig.show()"
   ]
  },
  {
   "cell_type": "code",
   "execution_count": 7,
   "metadata": {},
   "outputs": [],
   "source": [
    "# standardize feature cols\n",
    "scaler = StandardScaler()\n",
    "scaledTracks = scaler.fit_transform(tracks[features])"
   ]
  },
  {
   "cell_type": "code",
   "execution_count": 8,
   "metadata": {},
   "outputs": [
    {
     "name": "stdout",
     "output_type": "stream",
     "text": [
      "   Unnamed: 0    artist_name        track_name                track_id  \\\n",
      "0           0     Jason Mraz   I Won't Give Up  53QF56cjZA9RTuuMZDrSA6   \n",
      "1           1     Jason Mraz  93 Million Miles  1s8tP3jP4GZcyHDsjvw218   \n",
      "2           2  Joshua Hyslop  Do Not Let Me Go  7BRCa8MPiyuvr2VU3O9W0F   \n",
      "3           3   Boyce Avenue          Fast Car  63wsZUhUZLlh1OsyrZq7sz   \n",
      "4           4   Andrew Belle  Sky's Still Blue  6nXIYClvJAfi6ujLiKqEq8   \n",
      "\n",
      "   popularity  year     genre  danceability  energy  key  ...  mode  \\\n",
      "0          68  2012  acoustic         0.483   0.303    4  ...     1   \n",
      "1          50  2012  acoustic         0.572   0.454    3  ...     1   \n",
      "2          57  2012  acoustic         0.409   0.234    3  ...     1   \n",
      "3          58  2012  acoustic         0.392   0.251   10  ...     1   \n",
      "4          54  2012  acoustic         0.430   0.791    6  ...     0   \n",
      "\n",
      "   speechiness  acousticness  instrumentalness  liveness  valence    tempo  \\\n",
      "0       0.0429        0.6940          0.000000    0.1150    0.139  133.406   \n",
      "1       0.0258        0.4770          0.000014    0.0974    0.515  140.182   \n",
      "2       0.0323        0.3380          0.000050    0.0895    0.145  139.832   \n",
      "3       0.0363        0.8070          0.000000    0.0797    0.508  204.961   \n",
      "4       0.0302        0.0726          0.019300    0.1100    0.217  171.864   \n",
      "\n",
      "   duration_ms  time_signature  cluster  \n",
      "0       240166               3        3  \n",
      "1       216387               4        5  \n",
      "2       158960               4        5  \n",
      "3       304293               4        5  \n",
      "4       244320               4        7  \n",
      "\n",
      "[5 rows x 21 columns]\n"
     ]
    }
   ],
   "source": [
    "kmeans = KMeans(n_clusters=10, random_state=42)\n",
    "tracks['cluster'] = kmeans.fit_predict(scaledTracks)\n",
    "\n",
    "print(tracks.head())"
   ]
  },
  {
   "cell_type": "code",
   "execution_count": 12,
   "metadata": {},
   "outputs": [
    {
     "data": {
      "image/png": "[encoded data removed]",
      "text/plain": [
       "<Figure size 800x600 with 2 Axes>"
      ]
     },
     "metadata": {},
     "output_type": "display_data"
    }
   ],
   "source": [
    "pca = PCA(n_components=2)\n",
    "principalComponents = pca.fit_transform(scaledTracks)\n",
    "\n",
    "Df = pd.DataFrame(data=principalComponents,\n",
    "                           columns=['principal component 1', 'principal component 2'])\n",
    "finalDf = pd.concat([Df, tracks[['cluster']]], axis=1)\n",
    "\n",
    "plt.figure(figsize=(8,6))\n",
    "plt.scatter(Df['principal component 1'], Df['principal component 2'], c=tracks['cluster'].values, cmap='viridis')\n",
    "plt.xlabel('Principal Component 1')\n",
    "plt.ylabel('Principal Component 2')\n",
    "plt.colorbar(label='Cluster')\n",
    "plt.title('PCA Visualization of Tracks')\n",
    "\n",
    "plt.show()\n"
   ]
  },
  {
   "cell_type": "code",
   "execution_count": 13,
   "metadata": {},
   "outputs": [],
   "source": [
    "clusterAnalysis = tracks.groupby('cluster')['genre'].unique()\n",
    "\n",
    "# for cluster, genres in clusterAnalysis.items():\n",
    "#     print(f\"cluster {cluster}: {genres}\")"
   ]
  },
  {
   "cell_type": "code",
   "execution_count": 9,
   "metadata": {},
   "outputs": [
    {
     "name": "stdout",
     "output_type": "stream",
     "text": [
      "Input track found:\n",
      "        Unnamed: 0 artist_name track_name                track_id  popularity  \\\n",
      "461992      461992  The Weeknd  Heartless  6bnF93Rx87YqUBLSgjiMU8          84   \n",
      "\n",
      "        year genre  danceability  energy  key  ...  mode  speechiness  \\\n",
      "461992  2020   pop         0.537   0.746   10  ...     0         0.15   \n",
      "\n",
      "        acousticness  instrumentalness  liveness  valence    tempo  \\\n",
      "461992        0.0236          0.000001     0.156    0.252  170.062   \n",
      "\n",
      "        duration_ms  time_signature  cluster  \n",
      "461992       198267               4        1  \n",
      "\n",
      "[1 rows x 21 columns]\n",
      "Predicted cluster: 1\n",
      "Here are the top recommendations based on the inputted song:\n",
      "              artist_name                               track_name  \\\n",
      "1138676         The Roots                               I Remember   \n",
      "447065   The Crabb Family             Sister, Play That Tambourine   \n",
      "878330             C.P.V.                               La Espiral   \n",
      "401192              ATEEZ  HALA HALA (Hearts Awakened, Live Alive)   \n",
      "270874     Champagne Drip                                Millennia   \n",
      "492367          Millbrook                   You & Me (feat. Selin)   \n",
      "558588                Mqx                                    Fever   \n",
      "427009           UNSECRET                                    Crawl   \n",
      "120338   Breathe Carolina                           Chasing Hearts   \n",
      "325980             Kanine                            Spirit Motion   \n",
      "\n",
      "         popularity          genre  year  \n",
      "1138676          19       hardcore  2011  \n",
      "447065           11         gospel  2020  \n",
      "878330            7        spanish  2005  \n",
      "401192           60          k-pop  2019  \n",
      "270874           12            dub  2017  \n",
      "492367           26  drum-and-bass  2021  \n",
      "558588           43      hardstyle  2022  \n",
      "427009           16          blues  2020  \n",
      "120338           33          dance  2014  \n",
      "325980           13  drum-and-bass  2018  \n"
     ]
    }
   ],
   "source": [
    "def recommendSongs(inputTrackName, inputArtistName, tracks, features, scaler, kmeans, n_recommendations=10):\n",
    "    # tracks = ...\n",
    "    # features = ...\n",
    "    # scaler = ...\n",
    "    # kmeans = ...\n",
    "\n",
    "    inputTrackName = inputTrackName.strip().lower()\n",
    "    inputArtistName = inputArtistName.strip().lower()\n",
    "    \n",
    "    # find input track\n",
    "    inputTrack = tracks[(tracks['track_name'].str.lower() == inputTrackName) & (tracks['artist_name'].str.lower() == inputArtistName)]\n",
    "    \n",
    "    if inputTrack.empty:\n",
    "        print(\"Track not found in dataset\")\n",
    "        return inputTrack \n",
    "    print(\"Input track found:\")\n",
    "    print(inputTrack)\n",
    "    \n",
    "    inputTrackFeatures = inputTrack[features]\n",
    "    scaledInputTrackFeatures = scaler.transform(inputTrackFeatures)\n",
    "    \n",
    "    # predict cluster for the input track\n",
    "    inputCluster = kmeans.predict(scaledInputTrackFeatures)[0]\n",
    "    print(f\"Predicted cluster: {inputCluster}\")\n",
    "    \n",
    "    # get tracks from same cluster\n",
    "    similarTracks = tracks[tracks['cluster'] == inputCluster]\n",
    "    # exclude input track from recommendations\n",
    "    similarTracks = similarTracks[(similarTracks['track_name'].str.lower() != inputTrackName) | (similarTracks['artist_name'].str.lower() != inputArtistName)]\n",
    "    \n",
    "    # calculate the distances to input track\n",
    "    similarTracksFeatures = scaler.transform(similarTracks[features])\n",
    "    distances = euclidean_distances(scaledInputTrackFeatures, similarTracksFeatures).flatten()\n",
    "    # add distances to the df\n",
    "    similarTracks['distance'] = distances\n",
    "    \n",
    "    # sort by distance and select top 10\n",
    "    recommendations = similarTracks.sort_values(by=['distance', 'popularity'], ascending=[True, False]).drop_duplicates(subset=['artist_name', 'track_name']).head(n_recommendations)\n",
    "    if len(recommendations) < n_recommendations:\n",
    "        # fill remaining recommendations with similar tracks if duplicates\n",
    "        remaining = similarTracks[~similarTracks.index.isin(recommendations.index)].head(n_recommendations - len(recommendations))\n",
    "        recommendations = pd.concat([recommendations, remaining])\n",
    "    \n",
    "    return recommendations[['artist_name', 'track_name', 'popularity', 'genre', 'year']]\n",
    "\n",
    "# get user input\n",
    "inputTrackName = input(\"Enter track name: \")\n",
    "inputArtistName = input(\"Enters artist name: \")\n",
    "\n",
    "# get recommendations\n",
    "recommendations = recommendSongs(inputTrackName, inputArtistName, tracks, features, scaler, kmeans)\n",
    "if recommendations.empty:\n",
    "    print(\"No recommendations found\")\n",
    "else:\n",
    "    print(\"Here are the top recommendations based on the inputted song:\")\n",
    "    print(recommendations[['artist_name', 'track_name', 'popularity', 'genre', 'year']])\n"
   ]
  }
 ],
 "metadata": {
  "kernelspec": {
   "display_name": "Python 3",
   "language": "python",
   "name": "python3"
  },
  "language_info": {
   "codemirror_mode": {
    "name": "ipython",
    "version": 3
   },
   "file_extension": ".py",
   "mimetype": "text/x-python",
   "name": "python",
   "nbconvert_exporter": "python",
   "pygments_lexer": "ipython3",
   "version": "3.10.5"
  }
 },
 "nbformat": 4,
 "nbformat_minor": 2
}
